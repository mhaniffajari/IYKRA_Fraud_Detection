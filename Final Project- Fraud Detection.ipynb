{
 "cells": [
  {
   "cell_type": "markdown",
   "id": "72610d27",
   "metadata": {},
   "source": [
    "# Fraud Detection"
   ]
  },
  {
   "cell_type": "markdown",
   "id": "25c5f5e8",
   "metadata": {},
   "source": [
    "Description:\n",
    "1. step: represents a unit of time where 1 step equals 1 hour\n",
    "2. type: type of online transaction\n",
    "3. amount: the amount of the transaction\n",
    "4. nameOrig: customer starting the transaction\n",
    "5. oldbalanceOrg: balance before the transaction\n",
    "6. newbalanceOrig: balance after the transaction\n",
    "7. nameDest: recipient of the transaction\n",
    "8. oldbalanceDest: initial balance of recipient before the transaction\n",
    "9. newbalanceDest: the new balance of recipient after the transaction\n",
    "10. isFraud: fraud transaction"
   ]
  },
  {
   "cell_type": "markdown",
   "id": "421affa5",
   "metadata": {},
   "source": [
    "# Data Preparation"
   ]
  },
  {
   "cell_type": "code",
   "execution_count": null,
   "id": "a4789ba6",
   "metadata": {},
   "outputs": [],
   "source": [
    "import pandas as pd"
   ]
  },
  {
   "cell_type": "code",
   "execution_count": null,
   "id": "229fefb1",
   "metadata": {},
   "outputs": [],
   "source": [
    "import numpy as np\n",
    "import seaborn as sns\n",
    "import matplotlib.pyplot as plt"
   ]
  },
  {
   "cell_type": "code",
   "execution_count": null,
   "id": "a2defaf9",
   "metadata": {},
   "outputs": [],
   "source": [
    "df = pd.read_csv('PS_20174392719_1491204439457_log.csv')"
   ]
  },
  {
   "cell_type": "code",
   "execution_count": null,
   "id": "2413de58",
   "metadata": {
    "scrolled": false
   },
   "outputs": [],
   "source": [
    "df"
   ]
  },
  {
   "cell_type": "markdown",
   "id": "664b01c0",
   "metadata": {},
   "source": [
    "# Exploratory Data Analysis"
   ]
  },
  {
   "cell_type": "code",
   "execution_count": null,
   "id": "a0ae86ef",
   "metadata": {},
   "outputs": [],
   "source": [
    "def preprocessing(df):\n",
    "    \"\"\"\"\n",
    "    Objective :\n",
    "    Function for preprocessing data, known missing, duplicated values and basic stastics every column in dataframe and duplicated row\n",
    "    df is dataframe\n",
    "    \"\"\"\n",
    "    try:\n",
    "        import pandas as pd\n",
    "        variables = pd.DataFrame(columns=['Variable','Number of unique values','Percent of Null(%)','Number of Duplicated','Type','Values'])\n",
    "        for i, var in enumerate(df.columns):\n",
    "            variables.loc[i] = [var, df[var].nunique(),df[var].isnull().sum()/df.shape[0]*100,df[var].duplicated(keep=False).sum(),df[var].dtypes,df[var].unique()]\n",
    "        return (variables.set_index('Variable'))\n",
    "    except:\n",
    "        print('ada kesalahan penginputan')"
   ]
  },
  {
   "cell_type": "code",
   "execution_count": null,
   "id": "4e997635",
   "metadata": {
    "scrolled": true
   },
   "outputs": [],
   "source": [
    "preprocessing(df)"
   ]
  },
  {
   "cell_type": "markdown",
   "id": "5df3b1e9",
   "metadata": {},
   "source": [
    "**Data Insight**\n",
    "\n",
    "    1. Tidak ada nilai null value pada dataset\n",
    "    2. satu user bisa transaksi berkali-kali (nameOrigin yang duplicate)"
   ]
  },
  {
   "cell_type": "code",
   "execution_count": null,
   "id": "f910e4f1",
   "metadata": {},
   "outputs": [],
   "source": [
    "round(df.describe())"
   ]
  },
  {
   "cell_type": "code",
   "execution_count": null,
   "id": "1a0b4513",
   "metadata": {},
   "outputs": [],
   "source": [
    "df.duplicated().sum()"
   ]
  },
  {
   "cell_type": "markdown",
   "id": "0a88c4b1",
   "metadata": {},
   "source": [
    "## Univariate Analysis"
   ]
  },
  {
   "cell_type": "markdown",
   "id": "b25e3ecb",
   "metadata": {},
   "source": [
    "### Waktu Transaksi"
   ]
  },
  {
   "cell_type": "code",
   "execution_count": null,
   "id": "31981b72",
   "metadata": {},
   "outputs": [],
   "source": [
    "num_days = 7\n",
    "num_hours = 24\n",
    "df['days'] = df['step']%num_days\n",
    "df['hours'] = df['step']%num_hours"
   ]
  },
  {
   "cell_type": "code",
   "execution_count": null,
   "id": "21bb3510",
   "metadata": {},
   "outputs": [],
   "source": [
    "df['day_trans'] = df['step']/24"
   ]
  },
  {
   "cell_type": "code",
   "execution_count": null,
   "id": "ae8bcb75",
   "metadata": {},
   "outputs": [],
   "source": [
    "df['day_trans'] = round(df['day_trans'])"
   ]
  },
  {
   "cell_type": "code",
   "execution_count": null,
   "id": "21a72b51",
   "metadata": {},
   "outputs": [],
   "source": [
    "time = ['step','days','hours','day_trans']"
   ]
  },
  {
   "cell_type": "code",
   "execution_count": null,
   "id": "f403c1cd",
   "metadata": {
    "scrolled": true
   },
   "outputs": [],
   "source": [
    "for j in range (0,len(time)):\n",
    "    num = time[j]\n",
    "    sns.histplot(df[num])\n",
    "    plt.figure(figsize=(3,3))\n",
    "    plt.show()"
   ]
  },
  {
   "cell_type": "markdown",
   "id": "ef0c8cb5",
   "metadata": {},
   "source": [
    "**Data Insight**\n",
    "\n",
    "    1. Jumlah transaksi setiap harinya memiliki frekuensi yang sama\n",
    "    2. Transaksi dominan terjadi pada diatas jam 10 pagi\n",
    "    3. Transaksi lebih banyak terjadi pada hari pertama hingga hari kedelapan belas"
   ]
  },
  {
   "cell_type": "markdown",
   "id": "4562bfdb",
   "metadata": {},
   "source": [
    "### Nominal Transaksi"
   ]
  },
  {
   "cell_type": "code",
   "execution_count": null,
   "id": "5c9bb8f6",
   "metadata": {},
   "outputs": [],
   "source": [
    "round(df['amount'].describe())"
   ]
  },
  {
   "cell_type": "markdown",
   "id": "fe1a2bff",
   "metadata": {},
   "source": [
    "**Data Transaksi**\n",
    "\n",
    "    1. Jumlah transaksi yang terjadi yaitu 6.362.620 selama 32 hari\n",
    "    2. Rata-rata transaksi adalah Rp. 179.862\n",
    "    3. Maksimum transaksi adalah Rp 92.445.517"
   ]
  },
  {
   "cell_type": "code",
   "execution_count": null,
   "id": "1039af70",
   "metadata": {},
   "outputs": [],
   "source": [
    "sns.kdeplot(df['amount'])"
   ]
  },
  {
   "cell_type": "markdown",
   "id": "283f4d7b",
   "metadata": {},
   "source": [
    "**Data Insight**\n",
    "\n",
    "    1. Distribusi data amount terlalu skew negatif karena ada transaksi yang sangat besar jumlah tapi berjumlah sedikit\n",
    "    2. Untuk analisis lebih lanjut bisa melakukan binning menjadi 3 bagian : Low, Medium, High, Very High"
   ]
  },
  {
   "cell_type": "code",
   "execution_count": null,
   "id": "8dc510ac",
   "metadata": {},
   "outputs": [],
   "source": [
    "bins = [0,np.percentile(df['amount'],25),np.percentile(df['amount'],50),np.percentile(df['amount'],75),np.percentile(df['amount'],100)]"
   ]
  },
  {
   "cell_type": "code",
   "execution_count": null,
   "id": "546af2c8",
   "metadata": {},
   "outputs": [],
   "source": [
    "kategori = ['Low','Mid','High','Very High']"
   ]
  },
  {
   "cell_type": "code",
   "execution_count": null,
   "id": "b96d7865",
   "metadata": {},
   "outputs": [],
   "source": [
    "df['amount_bins'] = pd.cut(df['amount'], bins, labels=kategori, include_lowest=True)"
   ]
  },
  {
   "cell_type": "code",
   "execution_count": null,
   "id": "65d7617e",
   "metadata": {},
   "outputs": [],
   "source": [
    "amount_cat = df.groupby('amount_bins').agg({'amount':('min','max')}).reset_index()\n",
    "amount_cat.columns = ['kategori','minimum amount','maximum amount']\n",
    "amount_cat"
   ]
  },
  {
   "cell_type": "code",
   "execution_count": null,
   "id": "38b6b86e",
   "metadata": {
    "scrolled": true
   },
   "outputs": [],
   "source": [
    "sns.countplot(df['amount_bins'])"
   ]
  },
  {
   "cell_type": "code",
   "execution_count": null,
   "id": "4b01cf42",
   "metadata": {},
   "outputs": [],
   "source": [
    "amount_sum = df.groupby('amount_bins')['amount'].sum().reset_index()\n",
    "amount_sum.columns = ['kategori','jumlah transaksi']"
   ]
  },
  {
   "cell_type": "code",
   "execution_count": null,
   "id": "8300b199",
   "metadata": {},
   "outputs": [],
   "source": [
    "sns.barplot(x='kategori',y='jumlah transaksi',data=amount_sum)"
   ]
  },
  {
   "cell_type": "code",
   "execution_count": null,
   "id": "e66050b8",
   "metadata": {},
   "outputs": [],
   "source": [
    "sns.catplot(x='amount_bins',y='amount',data=df,kind='box')"
   ]
  },
  {
   "cell_type": "markdown",
   "id": "2a8585d5",
   "metadata": {},
   "source": [
    "**Data Insight**\n",
    "\n",
    "    1. Transaksi very high memiliki jumlah yang sangat besar"
   ]
  },
  {
   "cell_type": "code",
   "execution_count": null,
   "id": "d1988f0c",
   "metadata": {},
   "outputs": [],
   "source": [
    "df_cat = df[~(df['amount_bins']=='Very High')]"
   ]
  },
  {
   "cell_type": "code",
   "execution_count": null,
   "id": "6f1e6c50",
   "metadata": {},
   "outputs": [],
   "source": [
    "sns.catplot(x='amount_bins',y='amount',data=df_cat,kind='box')"
   ]
  },
  {
   "cell_type": "code",
   "execution_count": null,
   "id": "4b43f7f9",
   "metadata": {},
   "outputs": [],
   "source": [
    "sns.histplot(df_cat['amount'])"
   ]
  },
  {
   "cell_type": "markdown",
   "id": "777be786",
   "metadata": {},
   "source": [
    "**Data Insight**\n",
    "\n",
    "    1. Transaksi lebih banyak terjadi dibawah 50.000"
   ]
  },
  {
   "cell_type": "markdown",
   "id": "a4eca574",
   "metadata": {},
   "source": [
    "### Sender"
   ]
  },
  {
   "cell_type": "code",
   "execution_count": null,
   "id": "c0c0b9fb",
   "metadata": {},
   "outputs": [],
   "source": [
    "sender = df['nameOrig'].value_counts().reset_index()"
   ]
  },
  {
   "cell_type": "code",
   "execution_count": null,
   "id": "a8d458c9",
   "metadata": {},
   "outputs": [],
   "source": [
    "sender.sort_values('nameOrig',ascending=False).head(5)"
   ]
  },
  {
   "cell_type": "markdown",
   "id": "57f98e55",
   "metadata": {},
   "source": [
    "**Data Insight**\n",
    "\n",
    "    1. Satu customer paling banyak melakukan transaksi 3 kali dalam 32 hari"
   ]
  },
  {
   "cell_type": "code",
   "execution_count": null,
   "id": "ba0ad137",
   "metadata": {},
   "outputs": [],
   "source": [
    "sender_amount = df.groupby('nameOrig')['amount'].sum().reset_index()"
   ]
  },
  {
   "cell_type": "code",
   "execution_count": null,
   "id": "f89eb856",
   "metadata": {
    "scrolled": true
   },
   "outputs": [],
   "source": [
    "sender_amount.sort_values('amount',ascending=False)b"
   ]
  },
  {
   "cell_type": "code",
   "execution_count": null,
   "id": "3916f5bd",
   "metadata": {
    "scrolled": true
   },
   "outputs": [],
   "source": [
    "sender_amount[sender_amount['amount']<=0].count()"
   ]
  },
  {
   "cell_type": "markdown",
   "id": "49131a66",
   "metadata": {},
   "source": [
    "**Data Insight**\n",
    "\n",
    "    1. Ada 16 customer yang melakukan transaksi dibawah Rp 0"
   ]
  },
  {
   "cell_type": "markdown",
   "id": "5742dca7",
   "metadata": {},
   "source": [
    "### Recepient"
   ]
  },
  {
   "cell_type": "code",
   "execution_count": null,
   "id": "06366970",
   "metadata": {},
   "outputs": [],
   "source": [
    "receiver = df['nameDest'].value_counts().reset_index()"
   ]
  },
  {
   "cell_type": "code",
   "execution_count": null,
   "id": "3ba9f741",
   "metadata": {},
   "outputs": [],
   "source": [
    "receiver.sort_values('nameDest',ascending=False).head(10)"
   ]
  },
  {
   "cell_type": "markdown",
   "id": "e6b3bb10",
   "metadata": {},
   "source": [
    "**Data Insight**\n",
    "\n",
    "    1. ada 7 recepient yang melakukan transaksi lebih dari 100 kali"
   ]
  },
  {
   "cell_type": "markdown",
   "id": "3efe4d34",
   "metadata": {},
   "source": [
    "### Tipe Transaksi"
   ]
  },
  {
   "cell_type": "code",
   "execution_count": null,
   "id": "e0634f9a",
   "metadata": {},
   "outputs": [],
   "source": [
    "type_count = df.groupby('type')['amount'].count().reset_index()"
   ]
  },
  {
   "cell_type": "code",
   "execution_count": null,
   "id": "aeff521f",
   "metadata": {},
   "outputs": [],
   "source": [
    "type_count.columns = ['type','banyaknya transaksi']"
   ]
  },
  {
   "cell_type": "code",
   "execution_count": null,
   "id": "0ea19936",
   "metadata": {},
   "outputs": [],
   "source": [
    "sns.barplot(x='type',y='banyaknya transaksi',data=type_count)"
   ]
  },
  {
   "cell_type": "markdown",
   "id": "eb06ba8e",
   "metadata": {},
   "source": [
    "**Data Insight**\n",
    "\n",
    "    1. Jenis transaksi debit dan transfer jarang terjadi"
   ]
  },
  {
   "cell_type": "code",
   "execution_count": null,
   "id": "7b177dfd",
   "metadata": {},
   "outputs": [],
   "source": [
    "type_sum = df.groupby('type')['amount'].sum().reset_index()"
   ]
  },
  {
   "cell_type": "code",
   "execution_count": null,
   "id": "3a5041fa",
   "metadata": {},
   "outputs": [],
   "source": [
    "type_sum.columns = ['type','jumlah transaksi']"
   ]
  },
  {
   "cell_type": "code",
   "execution_count": null,
   "id": "c1a6ffc4",
   "metadata": {},
   "outputs": [],
   "source": [
    "sns.barplot(x='type',y='jumlah transaksi',data=type_sum)"
   ]
  },
  {
   "cell_type": "markdown",
   "id": "2ab7dca0",
   "metadata": {},
   "source": [
    "**Data Insight**\n",
    "\n",
    "    1. Jumlah transaksi pada transfer mencapai lebih dari Rp 50.000.000.000"
   ]
  },
  {
   "cell_type": "markdown",
   "id": "78e0dae5",
   "metadata": {},
   "source": [
    "## Bivariate Analysis dengan Fraud"
   ]
  },
  {
   "cell_type": "code",
   "execution_count": null,
   "id": "907f0386",
   "metadata": {},
   "outputs": [],
   "source": [
    "df_fraud = df[df['isFraud']==1]"
   ]
  },
  {
   "cell_type": "code",
   "execution_count": null,
   "id": "4634545e",
   "metadata": {},
   "outputs": [],
   "source": [
    "df_fraud.describe()"
   ]
  },
  {
   "cell_type": "code",
   "execution_count": null,
   "id": "abdac7b6",
   "metadata": {},
   "outputs": [],
   "source": [
    "print((df['isFraud'].value_counts()).plot(kind='pie',autopct='%1.2f%%'))"
   ]
  },
  {
   "cell_type": "markdown",
   "id": "aac29ff2",
   "metadata": {},
   "source": [
    "**Data Insight**\n",
    "\n",
    "    1. Transaksi fraud terjadi sebanyak 8.213\n",
    "    2. Kemungkinan transaksi adalah 0,13%"
   ]
  },
  {
   "cell_type": "code",
   "execution_count": null,
   "id": "42cb021e",
   "metadata": {
    "scrolled": true
   },
   "outputs": [],
   "source": [
    "df_fraud['amount'].sum()"
   ]
  },
  {
   "cell_type": "code",
   "execution_count": null,
   "id": "4ce5c97f",
   "metadata": {},
   "outputs": [],
   "source": [
    "df_fraud['amount'].sum()/df['amount'].sum()*100"
   ]
  },
  {
   "cell_type": "markdown",
   "id": "4fb872d6",
   "metadata": {},
   "source": [
    "**Data Insight**\n",
    "\n",
    "    1. Jumlah Transaksi fraud mencapai Rp 1.205.6415.427 dengan persentase 1% dari keseluruhan jumlah transaksi"
   ]
  },
  {
   "cell_type": "markdown",
   "id": "18c78a32",
   "metadata": {},
   "source": [
    "### Waktu Transaksi"
   ]
  },
  {
   "cell_type": "code",
   "execution_count": null,
   "id": "ea5ef236",
   "metadata": {},
   "outputs": [],
   "source": [
    "time = ['days','hours','day_trans']"
   ]
  },
  {
   "cell_type": "code",
   "execution_count": null,
   "id": "e1d94f1c",
   "metadata": {
    "scrolled": true
   },
   "outputs": [],
   "source": [
    "for j in range (0,len(time)):\n",
    "    num = time[j]\n",
    "    sns.histplot(df_fraud[num])\n",
    "    plt.figure(figsize=(3,3))\n",
    "    plt.show()"
   ]
  },
  {
   "cell_type": "markdown",
   "id": "9d4a23c0",
   "metadata": {},
   "source": [
    "**Data Insight**\n",
    "\n",
    "    1. Transaksi pada jam 0:00 dan 23:00 sering terjadi fraud"
   ]
  },
  {
   "cell_type": "code",
   "execution_count": null,
   "id": "83c019f2",
   "metadata": {},
   "outputs": [],
   "source": [
    "df['IsFraud'] = df['isFraud']"
   ]
  },
  {
   "cell_type": "code",
   "execution_count": null,
   "id": "1cbddd60",
   "metadata": {},
   "outputs": [],
   "source": [
    "for j in range (0,len(time)):\n",
    "    num = time[j]\n",
    "    df['IsFraud_new'] = df['IsFraud']\n",
    "    df_num = df.groupby([num])['IsFraud'].count()\n",
    "    df_num = df_num.reset_index()\n",
    "    df_num_corr = df[df['IsFraud']==1].groupby([num])['IsFraud_new'].count()\n",
    "    df_num_corr = df_num_corr.reset_index()\n",
    "    df_num_corr = df_num.merge(df_num_corr,how='left',on=num)\n",
    "    df_num_corr['%IsFraud'] = (df_num_corr['IsFraud_new']/df_num_corr['IsFraud'])*100\n",
    "    sns.lineplot(df_num_corr[num],df_num_corr['%IsFraud'])\n",
    "    plt.xlabel(num)\n",
    "    plt.ylabel('%IsFraud')\n",
    "    plt.show()"
   ]
  },
  {
   "cell_type": "markdown",
   "id": "f4264b6b",
   "metadata": {},
   "source": [
    "**Data Insight**\n",
    "\n",
    "    1. Transaksi pada jam 1-10 memiliki probabilitas fraud yang lebih tinggi\n",
    "    2. Transaksi pada hari kedua sampe keempat memiliki probabilitas fraud yang sangat tinggi\n",
    "    3. Transaksi pada hari ke 31 dan 32 memiliki probabilitas fraud yang tinggi"
   ]
  },
  {
   "cell_type": "markdown",
   "id": "cdaf17a3",
   "metadata": {},
   "source": [
    "## Nominal Transaksi"
   ]
  },
  {
   "cell_type": "code",
   "execution_count": null,
   "id": "65ea5611",
   "metadata": {},
   "outputs": [],
   "source": [
    "num = 'amount_bins'"
   ]
  },
  {
   "cell_type": "code",
   "execution_count": null,
   "id": "e9b1277a",
   "metadata": {},
   "outputs": [],
   "source": [
    "df['IsFraud_new'] = df['IsFraud']\n",
    "df_num = df.groupby([num])['IsFraud'].count()\n",
    "df_num = df_num.reset_index()\n",
    "df_num_corr = df[df['IsFraud']==1].groupby([num])['IsFraud_new'].count()\n",
    "df_num_corr = df_num_corr.reset_index()\n",
    "df_num_corr = df_num.merge(df_num_corr,how='left',on=num)\n",
    "df_num_corr['%IsFraud'] = (df_num_corr['IsFraud_new']/df_num_corr['IsFraud'])*100"
   ]
  },
  {
   "cell_type": "code",
   "execution_count": null,
   "id": "9e8c304a",
   "metadata": {},
   "outputs": [],
   "source": [
    "df_num_corr = df_num_corr.dropna()"
   ]
  },
  {
   "cell_type": "code",
   "execution_count": null,
   "id": "49536b78",
   "metadata": {},
   "outputs": [],
   "source": [
    "sns.barplot(df_num_corr['amount_bins'],df_num_corr['%IsFraud'])"
   ]
  },
  {
   "cell_type": "markdown",
   "id": "0c0c901f",
   "metadata": {},
   "source": [
    "**Data Insight**\n",
    "\n",
    "    1. Transaksi Very High memiliki kemungkinan fraud yang tinggi 35%"
   ]
  },
  {
   "cell_type": "code",
   "execution_count": null,
   "id": "d983b0cc",
   "metadata": {},
   "outputs": [],
   "source": [
    "df_very_high = df_fraud[df_fraud['amount_bins']=='Very High']"
   ]
  },
  {
   "cell_type": "code",
   "execution_count": null,
   "id": "7d681346",
   "metadata": {},
   "outputs": [],
   "source": [
    "round(df_very_high['amount'].describe())"
   ]
  },
  {
   "cell_type": "code",
   "execution_count": null,
   "id": "34b208f9",
   "metadata": {},
   "outputs": [],
   "source": [
    "sns.histplot(df_very_high['amount'])"
   ]
  },
  {
   "cell_type": "markdown",
   "id": "605d069b",
   "metadata": {},
   "source": [
    "**Data Insight**\n",
    "\n",
    "    1. Transaksi fraud dengan Rp 10.000.000 memiliki terjadi sebanyak 400 kali"
   ]
  },
  {
   "cell_type": "markdown",
   "id": "695a0445",
   "metadata": {},
   "source": [
    "### Sender"
   ]
  },
  {
   "cell_type": "code",
   "execution_count": null,
   "id": "09fdab8e",
   "metadata": {},
   "outputs": [],
   "source": [
    "num = 'nameOrig'"
   ]
  },
  {
   "cell_type": "code",
   "execution_count": null,
   "id": "1aaddc52",
   "metadata": {},
   "outputs": [],
   "source": [
    "df['IsFraud_new'] = df['IsFraud']\n",
    "df_num = df.groupby([num])['IsFraud'].count()\n",
    "df_num = df_num.reset_index()\n",
    "df_num_corr = df[df['IsFraud']==1].groupby([num])['IsFraud_new'].count()\n",
    "df_num_corr = df_num_corr.reset_index()\n",
    "df_num_corr = df_num.merge(df_num_corr,how='left',on=num)\n",
    "df_num_corr['%IsFraud'] = (df_num_corr['IsFraud_new']/df_num_corr['IsFraud'])*100"
   ]
  },
  {
   "cell_type": "code",
   "execution_count": null,
   "id": "fd0465dd",
   "metadata": {},
   "outputs": [],
   "source": [
    "df_num_corr = df_num_corr.fillna(0)"
   ]
  },
  {
   "cell_type": "code",
   "execution_count": null,
   "id": "bbfafaea",
   "metadata": {},
   "outputs": [],
   "source": [
    "df_num_corr.sort_values('%IsFraud',ascending=False)"
   ]
  },
  {
   "cell_type": "markdown",
   "id": "1a4236fa",
   "metadata": {},
   "source": [
    "**Data Transaksi**\n",
    "\n",
    "Customer yang melakukan transaksi fraud adalah 100% dari kesuluruhan transaksi mereka"
   ]
  }
 ],
 "metadata": {
  "kernelspec": {
   "display_name": "Python 3 (ipykernel)",
   "language": "python",
   "name": "python3"
  },
  "language_info": {
   "codemirror_mode": {
    "name": "ipython",
    "version": 3
   },
   "file_extension": ".py",
   "mimetype": "text/x-python",
   "name": "python",
   "nbconvert_exporter": "python",
   "pygments_lexer": "ipython3",
   "version": "3.9.12"
  }
 },
 "nbformat": 4,
 "nbformat_minor": 5
}

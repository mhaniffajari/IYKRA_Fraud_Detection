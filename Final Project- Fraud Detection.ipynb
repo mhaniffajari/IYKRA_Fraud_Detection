{
 "cells": [
  {
   "cell_type": "markdown",
   "id": "72610d27",
   "metadata": {},
   "source": [
    "# Fraud Detection"
   ]
  },
  {
   "cell_type": "markdown",
   "id": "25c5f5e8",
   "metadata": {},
   "source": [
    "Description:\n",
    "1. step: represents a unit of time where 1 step equals 1 hour\n",
    "2. type: type of online transaction\n",
    "3. amount: the amount of the transaction\n",
    "4. nameOrig: customer starting the transaction\n",
    "5. oldbalanceOrg: balance before the transaction\n",
    "6. newbalanceOrig: balance after the transaction\n",
    "7. nameDest: recipient of the transaction\n",
    "8. oldbalanceDest: initial balance of recipient before the transaction\n",
    "9. newbalanceDest: the new balance of recipient after the transaction\n",
    "10. isFraud: fraud transaction"
   ]
  },
  {
   "cell_type": "markdown",
   "id": "421affa5",
   "metadata": {},
   "source": [
    "# Data Preparation"
   ]
  },
  {
   "cell_type": "code",
   "execution_count": 1,
   "id": "a4789ba6",
   "metadata": {},
   "outputs": [],
   "source": [
    "import pandas as pd"
   ]
  },
  {
   "cell_type": "code",
   "execution_count": 13,
   "id": "229fefb1",
   "metadata": {},
   "outputs": [],
   "source": [
    "import numpy as np\n",
    "import seaborn as sns\n",
    "import matplotlib.pyplot as plt"
   ]
  },
  {
   "cell_type": "code",
   "execution_count": 2,
   "id": "a2defaf9",
   "metadata": {},
   "outputs": [],
   "source": [
    "df = pd.read_csv('PS_20174392719_1491204439457_log.csv')"
   ]
  },
  {
   "cell_type": "code",
   "execution_count": 3,
   "id": "2413de58",
   "metadata": {
    "scrolled": false
   },
   "outputs": [
    {
     "data": {
      "text/html": [
       "<div>\n",
       "<style scoped>\n",
       "    .dataframe tbody tr th:only-of-type {\n",
       "        vertical-align: middle;\n",
       "    }\n",
       "\n",
       "    .dataframe tbody tr th {\n",
       "        vertical-align: top;\n",
       "    }\n",
       "\n",
       "    .dataframe thead th {\n",
       "        text-align: right;\n",
       "    }\n",
       "</style>\n",
       "<table border=\"1\" class=\"dataframe\">\n",
       "  <thead>\n",
       "    <tr style=\"text-align: right;\">\n",
       "      <th></th>\n",
       "      <th>step</th>\n",
       "      <th>type</th>\n",
       "      <th>amount</th>\n",
       "      <th>nameOrig</th>\n",
       "      <th>oldbalanceOrg</th>\n",
       "      <th>newbalanceOrig</th>\n",
       "      <th>nameDest</th>\n",
       "      <th>oldbalanceDest</th>\n",
       "      <th>newbalanceDest</th>\n",
       "      <th>isFraud</th>\n",
       "      <th>isFlaggedFraud</th>\n",
       "    </tr>\n",
       "  </thead>\n",
       "  <tbody>\n",
       "    <tr>\n",
       "      <th>0</th>\n",
       "      <td>1</td>\n",
       "      <td>PAYMENT</td>\n",
       "      <td>9839.64</td>\n",
       "      <td>C1231006815</td>\n",
       "      <td>170136.00</td>\n",
       "      <td>160296.36</td>\n",
       "      <td>M1979787155</td>\n",
       "      <td>0.00</td>\n",
       "      <td>0.00</td>\n",
       "      <td>0</td>\n",
       "      <td>0</td>\n",
       "    </tr>\n",
       "    <tr>\n",
       "      <th>1</th>\n",
       "      <td>1</td>\n",
       "      <td>PAYMENT</td>\n",
       "      <td>1864.28</td>\n",
       "      <td>C1666544295</td>\n",
       "      <td>21249.00</td>\n",
       "      <td>19384.72</td>\n",
       "      <td>M2044282225</td>\n",
       "      <td>0.00</td>\n",
       "      <td>0.00</td>\n",
       "      <td>0</td>\n",
       "      <td>0</td>\n",
       "    </tr>\n",
       "    <tr>\n",
       "      <th>2</th>\n",
       "      <td>1</td>\n",
       "      <td>TRANSFER</td>\n",
       "      <td>181.00</td>\n",
       "      <td>C1305486145</td>\n",
       "      <td>181.00</td>\n",
       "      <td>0.00</td>\n",
       "      <td>C553264065</td>\n",
       "      <td>0.00</td>\n",
       "      <td>0.00</td>\n",
       "      <td>1</td>\n",
       "      <td>0</td>\n",
       "    </tr>\n",
       "    <tr>\n",
       "      <th>3</th>\n",
       "      <td>1</td>\n",
       "      <td>CASH_OUT</td>\n",
       "      <td>181.00</td>\n",
       "      <td>C840083671</td>\n",
       "      <td>181.00</td>\n",
       "      <td>0.00</td>\n",
       "      <td>C38997010</td>\n",
       "      <td>21182.00</td>\n",
       "      <td>0.00</td>\n",
       "      <td>1</td>\n",
       "      <td>0</td>\n",
       "    </tr>\n",
       "    <tr>\n",
       "      <th>4</th>\n",
       "      <td>1</td>\n",
       "      <td>PAYMENT</td>\n",
       "      <td>11668.14</td>\n",
       "      <td>C2048537720</td>\n",
       "      <td>41554.00</td>\n",
       "      <td>29885.86</td>\n",
       "      <td>M1230701703</td>\n",
       "      <td>0.00</td>\n",
       "      <td>0.00</td>\n",
       "      <td>0</td>\n",
       "      <td>0</td>\n",
       "    </tr>\n",
       "    <tr>\n",
       "      <th>...</th>\n",
       "      <td>...</td>\n",
       "      <td>...</td>\n",
       "      <td>...</td>\n",
       "      <td>...</td>\n",
       "      <td>...</td>\n",
       "      <td>...</td>\n",
       "      <td>...</td>\n",
       "      <td>...</td>\n",
       "      <td>...</td>\n",
       "      <td>...</td>\n",
       "      <td>...</td>\n",
       "    </tr>\n",
       "    <tr>\n",
       "      <th>6362615</th>\n",
       "      <td>743</td>\n",
       "      <td>CASH_OUT</td>\n",
       "      <td>339682.13</td>\n",
       "      <td>C786484425</td>\n",
       "      <td>339682.13</td>\n",
       "      <td>0.00</td>\n",
       "      <td>C776919290</td>\n",
       "      <td>0.00</td>\n",
       "      <td>339682.13</td>\n",
       "      <td>1</td>\n",
       "      <td>0</td>\n",
       "    </tr>\n",
       "    <tr>\n",
       "      <th>6362616</th>\n",
       "      <td>743</td>\n",
       "      <td>TRANSFER</td>\n",
       "      <td>6311409.28</td>\n",
       "      <td>C1529008245</td>\n",
       "      <td>6311409.28</td>\n",
       "      <td>0.00</td>\n",
       "      <td>C1881841831</td>\n",
       "      <td>0.00</td>\n",
       "      <td>0.00</td>\n",
       "      <td>1</td>\n",
       "      <td>0</td>\n",
       "    </tr>\n",
       "    <tr>\n",
       "      <th>6362617</th>\n",
       "      <td>743</td>\n",
       "      <td>CASH_OUT</td>\n",
       "      <td>6311409.28</td>\n",
       "      <td>C1162922333</td>\n",
       "      <td>6311409.28</td>\n",
       "      <td>0.00</td>\n",
       "      <td>C1365125890</td>\n",
       "      <td>68488.84</td>\n",
       "      <td>6379898.11</td>\n",
       "      <td>1</td>\n",
       "      <td>0</td>\n",
       "    </tr>\n",
       "    <tr>\n",
       "      <th>6362618</th>\n",
       "      <td>743</td>\n",
       "      <td>TRANSFER</td>\n",
       "      <td>850002.52</td>\n",
       "      <td>C1685995037</td>\n",
       "      <td>850002.52</td>\n",
       "      <td>0.00</td>\n",
       "      <td>C2080388513</td>\n",
       "      <td>0.00</td>\n",
       "      <td>0.00</td>\n",
       "      <td>1</td>\n",
       "      <td>0</td>\n",
       "    </tr>\n",
       "    <tr>\n",
       "      <th>6362619</th>\n",
       "      <td>743</td>\n",
       "      <td>CASH_OUT</td>\n",
       "      <td>850002.52</td>\n",
       "      <td>C1280323807</td>\n",
       "      <td>850002.52</td>\n",
       "      <td>0.00</td>\n",
       "      <td>C873221189</td>\n",
       "      <td>6510099.11</td>\n",
       "      <td>7360101.63</td>\n",
       "      <td>1</td>\n",
       "      <td>0</td>\n",
       "    </tr>\n",
       "  </tbody>\n",
       "</table>\n",
       "<p>6362620 rows × 11 columns</p>\n",
       "</div>"
      ],
      "text/plain": [
       "         step      type      amount     nameOrig  oldbalanceOrg  \\\n",
       "0           1   PAYMENT     9839.64  C1231006815      170136.00   \n",
       "1           1   PAYMENT     1864.28  C1666544295       21249.00   \n",
       "2           1  TRANSFER      181.00  C1305486145         181.00   \n",
       "3           1  CASH_OUT      181.00   C840083671         181.00   \n",
       "4           1   PAYMENT    11668.14  C2048537720       41554.00   \n",
       "...       ...       ...         ...          ...            ...   \n",
       "6362615   743  CASH_OUT   339682.13   C786484425      339682.13   \n",
       "6362616   743  TRANSFER  6311409.28  C1529008245     6311409.28   \n",
       "6362617   743  CASH_OUT  6311409.28  C1162922333     6311409.28   \n",
       "6362618   743  TRANSFER   850002.52  C1685995037      850002.52   \n",
       "6362619   743  CASH_OUT   850002.52  C1280323807      850002.52   \n",
       "\n",
       "         newbalanceOrig     nameDest  oldbalanceDest  newbalanceDest  isFraud  \\\n",
       "0             160296.36  M1979787155            0.00            0.00        0   \n",
       "1              19384.72  M2044282225            0.00            0.00        0   \n",
       "2                  0.00   C553264065            0.00            0.00        1   \n",
       "3                  0.00    C38997010        21182.00            0.00        1   \n",
       "4              29885.86  M1230701703            0.00            0.00        0   \n",
       "...                 ...          ...             ...             ...      ...   \n",
       "6362615            0.00   C776919290            0.00       339682.13        1   \n",
       "6362616            0.00  C1881841831            0.00            0.00        1   \n",
       "6362617            0.00  C1365125890        68488.84      6379898.11        1   \n",
       "6362618            0.00  C2080388513            0.00            0.00        1   \n",
       "6362619            0.00   C873221189      6510099.11      7360101.63        1   \n",
       "\n",
       "         isFlaggedFraud  \n",
       "0                     0  \n",
       "1                     0  \n",
       "2                     0  \n",
       "3                     0  \n",
       "4                     0  \n",
       "...                 ...  \n",
       "6362615               0  \n",
       "6362616               0  \n",
       "6362617               0  \n",
       "6362618               0  \n",
       "6362619               0  \n",
       "\n",
       "[6362620 rows x 11 columns]"
      ]
     },
     "execution_count": 3,
     "metadata": {},
     "output_type": "execute_result"
    }
   ],
   "source": [
    "df"
   ]
  },
  {
   "cell_type": "markdown",
   "id": "664b01c0",
   "metadata": {},
   "source": [
    "# Exploratory Data Analysis"
   ]
  },
  {
   "cell_type": "code",
   "execution_count": 4,
   "id": "a0ae86ef",
   "metadata": {},
   "outputs": [],
   "source": [
    "def preprocessing(df):\n",
    "    \"\"\"\"\n",
    "    Objective :\n",
    "    Function for preprocessing data, known missing, duplicated values and basic stastics every column in dataframe and duplicated row\n",
    "    df is dataframe\n",
    "    \"\"\"\n",
    "    try:\n",
    "        import pandas as pd\n",
    "        variables = pd.DataFrame(columns=['Variable','Number of unique values','Percent of Null(%)','Number of Duplicated','Type','Values'])\n",
    "        for i, var in enumerate(df.columns):\n",
    "            variables.loc[i] = [var, df[var].nunique(),df[var].isnull().sum()/df.shape[0]*100,df[var].duplicated(keep=False).sum(),df[var].dtypes,df[var].unique()]\n",
    "        return (variables.set_index('Variable'))\n",
    "    except:\n",
    "        print('ada kesalahan penginputan')"
   ]
  },
  {
   "cell_type": "code",
   "execution_count": 5,
   "id": "4e997635",
   "metadata": {
    "scrolled": true
   },
   "outputs": [
    {
     "data": {
      "text/html": [
       "<div>\n",
       "<style scoped>\n",
       "    .dataframe tbody tr th:only-of-type {\n",
       "        vertical-align: middle;\n",
       "    }\n",
       "\n",
       "    .dataframe tbody tr th {\n",
       "        vertical-align: top;\n",
       "    }\n",
       "\n",
       "    .dataframe thead th {\n",
       "        text-align: right;\n",
       "    }\n",
       "</style>\n",
       "<table border=\"1\" class=\"dataframe\">\n",
       "  <thead>\n",
       "    <tr style=\"text-align: right;\">\n",
       "      <th></th>\n",
       "      <th>Number of unique values</th>\n",
       "      <th>Percent of Null(%)</th>\n",
       "      <th>Number of Duplicated</th>\n",
       "      <th>Type</th>\n",
       "      <th>Values</th>\n",
       "    </tr>\n",
       "    <tr>\n",
       "      <th>Variable</th>\n",
       "      <th></th>\n",
       "      <th></th>\n",
       "      <th></th>\n",
       "      <th></th>\n",
       "      <th></th>\n",
       "    </tr>\n",
       "  </thead>\n",
       "  <tbody>\n",
       "    <tr>\n",
       "      <th>step</th>\n",
       "      <td>743</td>\n",
       "      <td>0.0</td>\n",
       "      <td>6362620</td>\n",
       "      <td>int64</td>\n",
       "      <td>[1, 2, 3, 4, 5, 6, 7, 8, 9, 10, 11, 12, 13, 14...</td>\n",
       "    </tr>\n",
       "    <tr>\n",
       "      <th>type</th>\n",
       "      <td>5</td>\n",
       "      <td>0.0</td>\n",
       "      <td>6362620</td>\n",
       "      <td>object</td>\n",
       "      <td>[PAYMENT, TRANSFER, CASH_OUT, DEBIT, CASH_IN]</td>\n",
       "    </tr>\n",
       "    <tr>\n",
       "      <th>amount</th>\n",
       "      <td>5316900</td>\n",
       "      <td>0.0</td>\n",
       "      <td>1824196</td>\n",
       "      <td>float64</td>\n",
       "      <td>[9839.64, 1864.28, 181.0, 11668.14, 7817.71, 7...</td>\n",
       "    </tr>\n",
       "    <tr>\n",
       "      <th>nameOrig</th>\n",
       "      <td>6353307</td>\n",
       "      <td>0.0</td>\n",
       "      <td>18611</td>\n",
       "      <td>object</td>\n",
       "      <td>[C1231006815, C1666544295, C1305486145, C84008...</td>\n",
       "    </tr>\n",
       "    <tr>\n",
       "      <th>oldbalanceOrg</th>\n",
       "      <td>1845844</td>\n",
       "      <td>0.0</td>\n",
       "      <td>4722056</td>\n",
       "      <td>float64</td>\n",
       "      <td>[170136.0, 21249.0, 181.0, 41554.0, 53860.0, 1...</td>\n",
       "    </tr>\n",
       "    <tr>\n",
       "      <th>newbalanceOrig</th>\n",
       "      <td>2682586</td>\n",
       "      <td>0.0</td>\n",
       "      <td>3747531</td>\n",
       "      <td>float64</td>\n",
       "      <td>[160296.36, 19384.72, 0.0, 29885.86, 46042.29,...</td>\n",
       "    </tr>\n",
       "    <tr>\n",
       "      <th>nameDest</th>\n",
       "      <td>2722362</td>\n",
       "      <td>0.0</td>\n",
       "      <td>4099916</td>\n",
       "      <td>object</td>\n",
       "      <td>[M1979787155, M2044282225, C553264065, C389970...</td>\n",
       "    </tr>\n",
       "    <tr>\n",
       "      <th>oldbalanceDest</th>\n",
       "      <td>3614697</td>\n",
       "      <td>0.0</td>\n",
       "      <td>2783980</td>\n",
       "      <td>float64</td>\n",
       "      <td>[0.0, 21182.0, 41898.0, 10845.0, 5083.0, 22425...</td>\n",
       "    </tr>\n",
       "    <tr>\n",
       "      <th>newbalanceDest</th>\n",
       "      <td>3555499</td>\n",
       "      <td>0.0</td>\n",
       "      <td>3090884</td>\n",
       "      <td>float64</td>\n",
       "      <td>[0.0, 40348.79, 157982.12, 51513.44, 16896.7, ...</td>\n",
       "    </tr>\n",
       "    <tr>\n",
       "      <th>isFraud</th>\n",
       "      <td>2</td>\n",
       "      <td>0.0</td>\n",
       "      <td>6362620</td>\n",
       "      <td>int64</td>\n",
       "      <td>[0, 1]</td>\n",
       "    </tr>\n",
       "    <tr>\n",
       "      <th>isFlaggedFraud</th>\n",
       "      <td>2</td>\n",
       "      <td>0.0</td>\n",
       "      <td>6362620</td>\n",
       "      <td>int64</td>\n",
       "      <td>[0, 1]</td>\n",
       "    </tr>\n",
       "  </tbody>\n",
       "</table>\n",
       "</div>"
      ],
      "text/plain": [
       "                Number of unique values  Percent of Null(%)  \\\n",
       "Variable                                                      \n",
       "step                                743                 0.0   \n",
       "type                                  5                 0.0   \n",
       "amount                          5316900                 0.0   \n",
       "nameOrig                        6353307                 0.0   \n",
       "oldbalanceOrg                   1845844                 0.0   \n",
       "newbalanceOrig                  2682586                 0.0   \n",
       "nameDest                        2722362                 0.0   \n",
       "oldbalanceDest                  3614697                 0.0   \n",
       "newbalanceDest                  3555499                 0.0   \n",
       "isFraud                               2                 0.0   \n",
       "isFlaggedFraud                        2                 0.0   \n",
       "\n",
       "                Number of Duplicated     Type  \\\n",
       "Variable                                        \n",
       "step                         6362620    int64   \n",
       "type                         6362620   object   \n",
       "amount                       1824196  float64   \n",
       "nameOrig                       18611   object   \n",
       "oldbalanceOrg                4722056  float64   \n",
       "newbalanceOrig               3747531  float64   \n",
       "nameDest                     4099916   object   \n",
       "oldbalanceDest               2783980  float64   \n",
       "newbalanceDest               3090884  float64   \n",
       "isFraud                      6362620    int64   \n",
       "isFlaggedFraud               6362620    int64   \n",
       "\n",
       "                                                           Values  \n",
       "Variable                                                           \n",
       "step            [1, 2, 3, 4, 5, 6, 7, 8, 9, 10, 11, 12, 13, 14...  \n",
       "type                [PAYMENT, TRANSFER, CASH_OUT, DEBIT, CASH_IN]  \n",
       "amount          [9839.64, 1864.28, 181.0, 11668.14, 7817.71, 7...  \n",
       "nameOrig        [C1231006815, C1666544295, C1305486145, C84008...  \n",
       "oldbalanceOrg   [170136.0, 21249.0, 181.0, 41554.0, 53860.0, 1...  \n",
       "newbalanceOrig  [160296.36, 19384.72, 0.0, 29885.86, 46042.29,...  \n",
       "nameDest        [M1979787155, M2044282225, C553264065, C389970...  \n",
       "oldbalanceDest  [0.0, 21182.0, 41898.0, 10845.0, 5083.0, 22425...  \n",
       "newbalanceDest  [0.0, 40348.79, 157982.12, 51513.44, 16896.7, ...  \n",
       "isFraud                                                    [0, 1]  \n",
       "isFlaggedFraud                                             [0, 1]  "
      ]
     },
     "execution_count": 5,
     "metadata": {},
     "output_type": "execute_result"
    }
   ],
   "source": [
    "preprocessing(df)"
   ]
  },
  {
   "cell_type": "markdown",
   "id": "5df3b1e9",
   "metadata": {},
   "source": [
    "**Data Insight**\n",
    "\n",
    "    1. Tidak ada nilai null value pada dataset\n",
    "    2. satu user bisa transaksi berkali-kali (nameOrigin yang duplicate)"
   ]
  },
  {
   "cell_type": "code",
   "execution_count": 6,
   "id": "f910e4f1",
   "metadata": {},
   "outputs": [
    {
     "data": {
      "text/html": [
       "<div>\n",
       "<style scoped>\n",
       "    .dataframe tbody tr th:only-of-type {\n",
       "        vertical-align: middle;\n",
       "    }\n",
       "\n",
       "    .dataframe tbody tr th {\n",
       "        vertical-align: top;\n",
       "    }\n",
       "\n",
       "    .dataframe thead th {\n",
       "        text-align: right;\n",
       "    }\n",
       "</style>\n",
       "<table border=\"1\" class=\"dataframe\">\n",
       "  <thead>\n",
       "    <tr style=\"text-align: right;\">\n",
       "      <th></th>\n",
       "      <th>step</th>\n",
       "      <th>amount</th>\n",
       "      <th>oldbalanceOrg</th>\n",
       "      <th>newbalanceOrig</th>\n",
       "      <th>oldbalanceDest</th>\n",
       "      <th>newbalanceDest</th>\n",
       "      <th>isFraud</th>\n",
       "      <th>isFlaggedFraud</th>\n",
       "    </tr>\n",
       "  </thead>\n",
       "  <tbody>\n",
       "    <tr>\n",
       "      <th>count</th>\n",
       "      <td>6362620.0</td>\n",
       "      <td>6362620.0</td>\n",
       "      <td>6362620.0</td>\n",
       "      <td>6362620.0</td>\n",
       "      <td>6362620.0</td>\n",
       "      <td>6362620.0</td>\n",
       "      <td>6362620.0</td>\n",
       "      <td>6362620.0</td>\n",
       "    </tr>\n",
       "    <tr>\n",
       "      <th>mean</th>\n",
       "      <td>243.0</td>\n",
       "      <td>179862.0</td>\n",
       "      <td>833883.0</td>\n",
       "      <td>855114.0</td>\n",
       "      <td>1100702.0</td>\n",
       "      <td>1224996.0</td>\n",
       "      <td>0.0</td>\n",
       "      <td>0.0</td>\n",
       "    </tr>\n",
       "    <tr>\n",
       "      <th>std</th>\n",
       "      <td>142.0</td>\n",
       "      <td>603858.0</td>\n",
       "      <td>2888243.0</td>\n",
       "      <td>2924049.0</td>\n",
       "      <td>3399180.0</td>\n",
       "      <td>3674129.0</td>\n",
       "      <td>0.0</td>\n",
       "      <td>0.0</td>\n",
       "    </tr>\n",
       "    <tr>\n",
       "      <th>min</th>\n",
       "      <td>1.0</td>\n",
       "      <td>0.0</td>\n",
       "      <td>0.0</td>\n",
       "      <td>0.0</td>\n",
       "      <td>0.0</td>\n",
       "      <td>0.0</td>\n",
       "      <td>0.0</td>\n",
       "      <td>0.0</td>\n",
       "    </tr>\n",
       "    <tr>\n",
       "      <th>25%</th>\n",
       "      <td>156.0</td>\n",
       "      <td>13390.0</td>\n",
       "      <td>0.0</td>\n",
       "      <td>0.0</td>\n",
       "      <td>0.0</td>\n",
       "      <td>0.0</td>\n",
       "      <td>0.0</td>\n",
       "      <td>0.0</td>\n",
       "    </tr>\n",
       "    <tr>\n",
       "      <th>50%</th>\n",
       "      <td>239.0</td>\n",
       "      <td>74872.0</td>\n",
       "      <td>14208.0</td>\n",
       "      <td>0.0</td>\n",
       "      <td>132706.0</td>\n",
       "      <td>214661.0</td>\n",
       "      <td>0.0</td>\n",
       "      <td>0.0</td>\n",
       "    </tr>\n",
       "    <tr>\n",
       "      <th>75%</th>\n",
       "      <td>335.0</td>\n",
       "      <td>208721.0</td>\n",
       "      <td>107315.0</td>\n",
       "      <td>144258.0</td>\n",
       "      <td>943037.0</td>\n",
       "      <td>1111909.0</td>\n",
       "      <td>0.0</td>\n",
       "      <td>0.0</td>\n",
       "    </tr>\n",
       "    <tr>\n",
       "      <th>max</th>\n",
       "      <td>743.0</td>\n",
       "      <td>92445517.0</td>\n",
       "      <td>59585040.0</td>\n",
       "      <td>49585040.0</td>\n",
       "      <td>356015889.0</td>\n",
       "      <td>356179279.0</td>\n",
       "      <td>1.0</td>\n",
       "      <td>1.0</td>\n",
       "    </tr>\n",
       "  </tbody>\n",
       "</table>\n",
       "</div>"
      ],
      "text/plain": [
       "            step      amount  oldbalanceOrg  newbalanceOrig  oldbalanceDest  \\\n",
       "count  6362620.0   6362620.0      6362620.0       6362620.0       6362620.0   \n",
       "mean       243.0    179862.0       833883.0        855114.0       1100702.0   \n",
       "std        142.0    603858.0      2888243.0       2924049.0       3399180.0   \n",
       "min          1.0         0.0            0.0             0.0             0.0   \n",
       "25%        156.0     13390.0            0.0             0.0             0.0   \n",
       "50%        239.0     74872.0        14208.0             0.0        132706.0   \n",
       "75%        335.0    208721.0       107315.0        144258.0        943037.0   \n",
       "max        743.0  92445517.0     59585040.0      49585040.0     356015889.0   \n",
       "\n",
       "       newbalanceDest    isFraud  isFlaggedFraud  \n",
       "count       6362620.0  6362620.0       6362620.0  \n",
       "mean        1224996.0        0.0             0.0  \n",
       "std         3674129.0        0.0             0.0  \n",
       "min               0.0        0.0             0.0  \n",
       "25%               0.0        0.0             0.0  \n",
       "50%          214661.0        0.0             0.0  \n",
       "75%         1111909.0        0.0             0.0  \n",
       "max       356179279.0        1.0             1.0  "
      ]
     },
     "execution_count": 6,
     "metadata": {},
     "output_type": "execute_result"
    }
   ],
   "source": [
    "round(df.describe())"
   ]
  },
  {
   "cell_type": "code",
   "execution_count": 7,
   "id": "1a0b4513",
   "metadata": {},
   "outputs": [
    {
     "data": {
      "text/plain": [
       "0"
      ]
     },
     "execution_count": 7,
     "metadata": {},
     "output_type": "execute_result"
    }
   ],
   "source": [
    "df.duplicated().sum()"
   ]
  },
  {
   "cell_type": "markdown",
   "id": "0a88c4b1",
   "metadata": {},
   "source": [
    "## Univariate Analysis"
   ]
  },
  {
   "cell_type": "markdown",
   "id": "b25e3ecb",
   "metadata": {},
   "source": [
    "### Waktu Transaksi"
   ]
  },
  {
   "cell_type": "code",
   "execution_count": 8,
   "id": "31981b72",
   "metadata": {},
   "outputs": [],
   "source": [
    "num_days = 7\n",
    "num_hours = 24\n",
    "df['days'] = df['step']%num_days\n",
    "df['hours'] = df['step']%num_hours"
   ]
  },
  {
   "cell_type": "code",
   "execution_count": 9,
   "id": "21bb3510",
   "metadata": {},
   "outputs": [],
   "source": [
    "df['day_trans'] = df['step']/24"
   ]
  },
  {
   "cell_type": "code",
   "execution_count": 11,
   "id": "ae8bcb75",
   "metadata": {},
   "outputs": [],
   "source": [
    "df['day_trans'] = round(df['day_trans'])"
   ]
  },
  {
   "cell_type": "code",
   "execution_count": 17,
   "id": "21a72b51",
   "metadata": {},
   "outputs": [],
   "source": [
    "time = ['step','days','hours','day_trans']"
   ]
  },
  {
   "cell_type": "code",
   "execution_count": 18,
   "id": "f403c1cd",
   "metadata": {
    "scrolled": true
   },
   "outputs": [
    {
     "data": {
      "image/png": "[encoded data removed]",
      "text/plain": [
       "<Figure size 432x288 with 1 Axes>"
      ]
     },
     "metadata": {
      "needs_background": "light"
     },
     "output_type": "display_data"
    },
    {
     "data": {
      "text/plain": [
       "<Figure size 216x216 with 0 Axes>"
      ]
     },
     "metadata": {},
     "output_type": "display_data"
    },
    {
     "data": {
      "image/png": "[encoded data removed]",
      "text/plain": [
       "<Figure size 432x288 with 1 Axes>"
      ]
     },
     "metadata": {
      "needs_background": "light"
     },
     "output_type": "display_data"
    },
    {
     "data": {
      "text/plain": [
       "<Figure size 216x216 with 0 Axes>"
      ]
     },
     "metadata": {},
     "output_type": "display_data"
    },
    {
     "data": {
      "image/png": "[encoded data removed]",
      "text/plain": [
       "<Figure size 432x288 with 1 Axes>"
      ]
     },
     "metadata": {
      "needs_background": "light"
     },
     "output_type": "display_data"
    },
    {
     "data": {
      "text/plain": [
       "<Figure size 216x216 with 0 Axes>"
      ]
     },
     "metadata": {},
     "output_type": "display_data"
    },
    {
     "data": {
      "image/png": "[encoded data removed]",
      "text/plain": [
       "<Figure size 432x288 with 1 Axes>"
      ]
     },
     "metadata": {
      "needs_background": "light"
     },
     "output_type": "display_data"
    },
    {
     "data": {
      "text/plain": [
       "<Figure size 216x216 with 0 Axes>"
      ]
     },
     "metadata": {},
     "output_type": "display_data"
    }
   ],
   "source": [
    "for j in range (0,len(time)):\n",
    "    num = time[j]\n",
    "    sns.histplot(df[num])\n",
    "    plt.figure(figsize=(3,3))\n",
    "    plt.show()"
   ]
  },
  {
   "cell_type": "markdown",
   "id": "ef0c8cb5",
   "metadata": {},
   "source": [
    "**Data Insight**\n",
    "\n",
    "    1. Jumlah transaksi setiap harinya memiliki frekuensi yang sama\n",
    "    2. Transaksi dominan terjadi pada diatas jam 10 pagi\n",
    "    3. Transaksi lebih banyak terjadi pada hari pertama hingga hari kedelapan belas"
   ]
  },
  {
   "cell_type": "markdown",
   "id": "4562bfdb",
   "metadata": {},
   "source": [
    "### Nominal Transaksi"
   ]
  },
  {
   "cell_type": "code",
   "execution_count": 20,
   "id": "5c9bb8f6",
   "metadata": {},
   "outputs": [
    {
     "data": {
      "text/plain": [
       "count     6362620.0\n",
       "mean       179862.0\n",
       "std        603858.0\n",
       "min             0.0\n",
       "25%         13390.0\n",
       "50%         74872.0\n",
       "75%        208721.0\n",
       "max      92445517.0\n",
       "Name: amount, dtype: float64"
      ]
     },
     "execution_count": 20,
     "metadata": {},
     "output_type": "execute_result"
    }
   ],
   "source": [
    "round(df['amount'].describe())"
   ]
  },
  {
   "cell_type": "markdown",
   "id": "fe1a2bff",
   "metadata": {},
   "source": [
    "**Data Transaksi**\n",
    "\n",
    "    1. Jumlah transaksi yang terjadi yaitu 6.362.620 selama 32 hari\n",
    "    2. Rata-rata transaksi adalah Rp. 179.862\n",
    "    3. Maksimum transaksi adalah Rp 92.445.517"
   ]
  },
  {
   "cell_type": "code",
   "execution_count": 22,
   "id": "1039af70",
   "metadata": {},
   "outputs": [
    {
     "data": {
      "text/plain": [
       "<AxesSubplot:xlabel='amount', ylabel='Density'>"
      ]
     },
     "execution_count": 22,
     "metadata": {},
     "output_type": "execute_result"
    },
    {
     "data": {
      "image/png": "[encoded data removed]",
      "text/plain": [
       "<Figure size 432x288 with 1 Axes>"
      ]
     },
     "metadata": {
      "needs_background": "light"
     },
     "output_type": "display_data"
    }
   ],
   "source": [
    "sns.kdeplot(df['amount'])"
   ]
  },
  {
   "cell_type": "markdown",
   "id": "283f4d7b",
   "metadata": {},
   "source": [
    "**Data Insight**\n",
    "\n",
    "    1. Distribusi data amount terlalu skew negatif karena ada transaksi yang sangat besar jumlah tapi berjumlah sedikit\n",
    "    2. Untuk analisis lebih lanjut bisa melakukan binning menjadi 3 bagian : Low, Medium, High, Very High"
   ]
  },
  {
   "cell_type": "code",
   "execution_count": 23,
   "id": "8dc510ac",
   "metadata": {},
   "outputs": [],
   "source": [
    "bins = [0,np.percentile(df['amount'],25),np.percentile(df['amount'],50),np.percentile(df['amount'],75),np.percentile(df['amount'],100)]"
   ]
  },
  {
   "cell_type": "code",
   "execution_count": 25,
   "id": "546af2c8",
   "metadata": {},
   "outputs": [],
   "source": [
    "kategori = ['Low','Mid','High','Very High']"
   ]
  },
  {
   "cell_type": "code",
   "execution_count": 26,
   "id": "b96d7865",
   "metadata": {},
   "outputs": [],
   "source": [
    "df['amount_bins'] = pd.cut(df['amount'], bins, labels=kategori, include_lowest=True)"
   ]
  },
  {
   "cell_type": "code",
   "execution_count": 36,
   "id": "65d7617e",
   "metadata": {},
   "outputs": [
    {
     "data": {
      "text/html": [
       "<div>\n",
       "<style scoped>\n",
       "    .dataframe tbody tr th:only-of-type {\n",
       "        vertical-align: middle;\n",
       "    }\n",
       "\n",
       "    .dataframe tbody tr th {\n",
       "        vertical-align: top;\n",
       "    }\n",
       "\n",
       "    .dataframe thead th {\n",
       "        text-align: right;\n",
       "    }\n",
       "</style>\n",
       "<table border=\"1\" class=\"dataframe\">\n",
       "  <thead>\n",
       "    <tr style=\"text-align: right;\">\n",
       "      <th></th>\n",
       "      <th>kategori</th>\n",
       "      <th>minimum amount</th>\n",
       "      <th>maximum amount</th>\n",
       "    </tr>\n",
       "  </thead>\n",
       "  <tbody>\n",
       "    <tr>\n",
       "      <th>0</th>\n",
       "      <td>Low</td>\n",
       "      <td>0.00</td>\n",
       "      <td>13389.57</td>\n",
       "    </tr>\n",
       "    <tr>\n",
       "      <th>1</th>\n",
       "      <td>Mid</td>\n",
       "      <td>13389.60</td>\n",
       "      <td>74871.80</td>\n",
       "    </tr>\n",
       "    <tr>\n",
       "      <th>2</th>\n",
       "      <td>High</td>\n",
       "      <td>74872.08</td>\n",
       "      <td>208721.45</td>\n",
       "    </tr>\n",
       "    <tr>\n",
       "      <th>3</th>\n",
       "      <td>Very High</td>\n",
       "      <td>208721.56</td>\n",
       "      <td>92445516.64</td>\n",
       "    </tr>\n",
       "  </tbody>\n",
       "</table>\n",
       "</div>"
      ],
      "text/plain": [
       "    kategori  minimum amount  maximum amount\n",
       "0        Low            0.00        13389.57\n",
       "1        Mid        13389.60        74871.80\n",
       "2       High        74872.08       208721.45\n",
       "3  Very High       208721.56     92445516.64"
      ]
     },
     "execution_count": 36,
     "metadata": {},
     "output_type": "execute_result"
    }
   ],
   "source": [
    "amount_cat = df.groupby('amount_bins').agg({'amount':('min','max')}).reset_index()\n",
    "amount_cat.columns = ['kategori','minimum amount','maximum amount']\n",
    "amount_cat"
   ]
  },
  {
   "cell_type": "code",
   "execution_count": 50,
   "id": "38b6b86e",
   "metadata": {
    "scrolled": true
   },
   "outputs": [
    {
     "name": "stderr",
     "output_type": "stream",
     "text": [
      "C:\\ProgramData\\Anaconda3\\lib\\site-packages\\seaborn\\_decorators.py:36: FutureWarning: Pass the following variable as a keyword arg: x. From version 0.12, the only valid positional argument will be `data`, and passing other arguments without an explicit keyword will result in an error or misinterpretation.\n",
      "  warnings.warn(\n"
     ]
    },
    {
     "data": {
      "text/plain": [
       "<AxesSubplot:xlabel='amount_bins', ylabel='count'>"
      ]
     },
     "execution_count": 50,
     "metadata": {},
     "output_type": "execute_result"
    },
    {
     "data": {
      "image/png": "[encoded data removed]",
      "text/plain": [
       "<Figure size 432x288 with 1 Axes>"
      ]
     },
     "metadata": {
      "needs_background": "light"
     },
     "output_type": "display_data"
    }
   ],
   "source": [
    "sns.countplot(df['amount_bins'])"
   ]
  },
  {
   "cell_type": "code",
   "execution_count": 39,
   "id": "4b01cf42",
   "metadata": {},
   "outputs": [],
   "source": [
    "amount_sum = df.groupby('amount_bins')['amount'].sum().reset_index()\n",
    "amount_sum.columns = ['kategori','jumlah transaksi']"
   ]
  },
  {
   "cell_type": "code",
   "execution_count": 40,
   "id": "8300b199",
   "metadata": {},
   "outputs": [
    {
     "data": {
      "text/plain": [
       "<AxesSubplot:xlabel='kategori', ylabel='jumlah transaksi'>"
      ]
     },
     "execution_count": 40,
     "metadata": {},
     "output_type": "execute_result"
    },
    {
     "data": {
      "image/png": "[encoded data removed]",
      "text/plain": [
       "<Figure size 432x288 with 1 Axes>"
      ]
     },
     "metadata": {
      "needs_background": "light"
     },
     "output_type": "display_data"
    }
   ],
   "source": [
    "sns.barplot(x='kategori',y='jumlah transaksi',data=amount_sum)"
   ]
  },
  {
   "cell_type": "code",
   "execution_count": 49,
   "id": "e66050b8",
   "metadata": {},
   "outputs": [
    {
     "data": {
      "text/plain": [
       "<seaborn.axisgrid.FacetGrid at 0x22709403df0>"
      ]
     },
     "execution_count": 49,
     "metadata": {},
     "output_type": "execute_result"
    },
    {
     "data": {
      "image/png": "[encoded data removed]",
      "text/plain": [
       "<Figure size 360x360 with 1 Axes>"
      ]
     },
     "metadata": {
      "needs_background": "light"
     },
     "output_type": "display_data"
    }
   ],
   "source": [
    "sns.catplot(x='amount_bins',y='amount',data=df,kind='box')"
   ]
  },
  {
   "cell_type": "markdown",
   "id": "2a8585d5",
   "metadata": {},
   "source": [
    "**Data Insight**\n",
    "\n",
    "    1. Transaksi very high memiliki jumlah yang sangat besar"
   ]
  },
  {
   "cell_type": "code",
   "execution_count": 45,
   "id": "d1988f0c",
   "metadata": {},
   "outputs": [],
   "source": [
    "df_cat = df[~(df['amount_bins']=='Very High')]"
   ]
  },
  {
   "cell_type": "code",
   "execution_count": 48,
   "id": "6f1e6c50",
   "metadata": {},
   "outputs": [
    {
     "data": {
      "text/plain": [
       "<seaborn.axisgrid.FacetGrid at 0x22704298cd0>"
      ]
     },
     "execution_count": 48,
     "metadata": {},
     "output_type": "execute_result"
    },
    {
     "data": {
      "image/png": "[encoded data removed]",
      "text/plain": [
       "<Figure size 360x360 with 1 Axes>"
      ]
     },
     "metadata": {
      "needs_background": "light"
     },
     "output_type": "display_data"
    }
   ],
   "source": [
    "sns.catplot(x='amount_bins',y='amount',data=df_cat,kind='box')"
   ]
  },
  {
   "cell_type": "code",
   "execution_count": 51,
   "id": "4b43f7f9",
   "metadata": {},
   "outputs": [
    {
     "data": {
      "text/plain": [
       "<AxesSubplot:xlabel='amount', ylabel='Count'>"
      ]
     },
     "execution_count": 51,
     "metadata": {},
     "output_type": "execute_result"
    },
    {
     "data": {
      "image/png": "[encoded data removed]",
      "text/plain": [
       "<Figure size 432x288 with 1 Axes>"
      ]
     },
     "metadata": {
      "needs_background": "light"
     },
     "output_type": "display_data"
    }
   ],
   "source": [
    "sns.histplot(df_cat['amount'])"
   ]
  },
  {
   "cell_type": "markdown",
   "id": "777be786",
   "metadata": {},
   "source": [
    "**Data Insight**\n",
    "\n",
    "    1. Transaksi lebih banyak terjadi dibawah 50.000"
   ]
  },
  {
   "cell_type": "markdown",
   "id": "a4eca574",
   "metadata": {},
   "source": [
    "### Sender"
   ]
  },
  {
   "cell_type": "code",
   "execution_count": 55,
   "id": "c0c0b9fb",
   "metadata": {},
   "outputs": [],
   "source": [
    "sender = df['nameOrig'].value_counts().reset_index()"
   ]
  },
  {
   "cell_type": "code",
   "execution_count": 58,
   "id": "a8d458c9",
   "metadata": {},
   "outputs": [
    {
     "data": {
      "text/html": [
       "<div>\n",
       "<style scoped>\n",
       "    .dataframe tbody tr th:only-of-type {\n",
       "        vertical-align: middle;\n",
       "    }\n",
       "\n",
       "    .dataframe tbody tr th {\n",
       "        vertical-align: top;\n",
       "    }\n",
       "\n",
       "    .dataframe thead th {\n",
       "        text-align: right;\n",
       "    }\n",
       "</style>\n",
       "<table border=\"1\" class=\"dataframe\">\n",
       "  <thead>\n",
       "    <tr style=\"text-align: right;\">\n",
       "      <th></th>\n",
       "      <th>index</th>\n",
       "      <th>nameOrig</th>\n",
       "    </tr>\n",
       "  </thead>\n",
       "  <tbody>\n",
       "    <tr>\n",
       "      <th>0</th>\n",
       "      <td>C1902386530</td>\n",
       "      <td>3</td>\n",
       "    </tr>\n",
       "    <tr>\n",
       "      <th>8</th>\n",
       "      <td>C2098525306</td>\n",
       "      <td>3</td>\n",
       "    </tr>\n",
       "    <tr>\n",
       "      <th>1</th>\n",
       "      <td>C363736674</td>\n",
       "      <td>3</td>\n",
       "    </tr>\n",
       "    <tr>\n",
       "      <th>14</th>\n",
       "      <td>C1530544995</td>\n",
       "      <td>3</td>\n",
       "    </tr>\n",
       "    <tr>\n",
       "      <th>13</th>\n",
       "      <td>C1065307291</td>\n",
       "      <td>3</td>\n",
       "    </tr>\n",
       "  </tbody>\n",
       "</table>\n",
       "</div>"
      ],
      "text/plain": [
       "          index  nameOrig\n",
       "0   C1902386530         3\n",
       "8   C2098525306         3\n",
       "1    C363736674         3\n",
       "14  C1530544995         3\n",
       "13  C1065307291         3"
      ]
     },
     "execution_count": 58,
     "metadata": {},
     "output_type": "execute_result"
    }
   ],
   "source": [
    "sender.sort_values('nameOrig',ascending=False).head(5)"
   ]
  },
  {
   "cell_type": "markdown",
   "id": "57f98e55",
   "metadata": {},
   "source": [
    "**Data Insight**\n",
    "\n",
    "    1. Satu customer paling banyak melakukan transaksi 3 kali dalam 32 hari"
   ]
  },
  {
   "cell_type": "code",
   "execution_count": 62,
   "id": "ba0ad137",
   "metadata": {},
   "outputs": [],
   "source": [
    "sender_amount = df.groupby('nameOrig')['amount'].sum().reset_index()"
   ]
  },
  {
   "cell_type": "code",
   "execution_count": 63,
   "id": "f89eb856",
   "metadata": {
    "scrolled": true
   },
   "outputs": [
    {
     "data": {
      "text/html": [
       "<div>\n",
       "<style scoped>\n",
       "    .dataframe tbody tr th:only-of-type {\n",
       "        vertical-align: middle;\n",
       "    }\n",
       "\n",
       "    .dataframe tbody tr th {\n",
       "        vertical-align: top;\n",
       "    }\n",
       "\n",
       "    .dataframe thead th {\n",
       "        text-align: right;\n",
       "    }\n",
       "</style>\n",
       "<table border=\"1\" class=\"dataframe\">\n",
       "  <thead>\n",
       "    <tr style=\"text-align: right;\">\n",
       "      <th></th>\n",
       "      <th>nameOrig</th>\n",
       "      <th>amount</th>\n",
       "    </tr>\n",
       "  </thead>\n",
       "  <tbody>\n",
       "    <tr>\n",
       "      <th>2349681</th>\n",
       "      <td>C1715283297</td>\n",
       "      <td>92445516.64</td>\n",
       "    </tr>\n",
       "    <tr>\n",
       "      <th>3704557</th>\n",
       "      <td>C2127282686</td>\n",
       "      <td>73823490.36</td>\n",
       "    </tr>\n",
       "    <tr>\n",
       "      <th>3432985</th>\n",
       "      <td>C2044643633</td>\n",
       "      <td>71172480.42</td>\n",
       "    </tr>\n",
       "    <tr>\n",
       "      <th>1397877</th>\n",
       "      <td>C1425667947</td>\n",
       "      <td>69886731.30</td>\n",
       "    </tr>\n",
       "    <tr>\n",
       "      <th>1919229</th>\n",
       "      <td>C1584456031</td>\n",
       "      <td>69337316.27</td>\n",
       "    </tr>\n",
       "    <tr>\n",
       "      <th>...</th>\n",
       "      <td>...</td>\n",
       "      <td>...</td>\n",
       "    </tr>\n",
       "    <tr>\n",
       "      <th>965841</th>\n",
       "      <td>C1294472700</td>\n",
       "      <td>0.00</td>\n",
       "    </tr>\n",
       "    <tr>\n",
       "      <th>5349799</th>\n",
       "      <td>C69493310</td>\n",
       "      <td>0.00</td>\n",
       "    </tr>\n",
       "    <tr>\n",
       "      <th>4836929</th>\n",
       "      <td>C539112012</td>\n",
       "      <td>0.00</td>\n",
       "    </tr>\n",
       "    <tr>\n",
       "      <th>5803307</th>\n",
       "      <td>C832555372</td>\n",
       "      <td>0.00</td>\n",
       "    </tr>\n",
       "    <tr>\n",
       "      <th>3575689</th>\n",
       "      <td>C2088151490</td>\n",
       "      <td>0.00</td>\n",
       "    </tr>\n",
       "  </tbody>\n",
       "</table>\n",
       "<p>6353307 rows × 2 columns</p>\n",
       "</div>"
      ],
      "text/plain": [
       "            nameOrig       amount\n",
       "2349681  C1715283297  92445516.64\n",
       "3704557  C2127282686  73823490.36\n",
       "3432985  C2044643633  71172480.42\n",
       "1397877  C1425667947  69886731.30\n",
       "1919229  C1584456031  69337316.27\n",
       "...              ...          ...\n",
       "965841   C1294472700         0.00\n",
       "5349799    C69493310         0.00\n",
       "4836929   C539112012         0.00\n",
       "5803307   C832555372         0.00\n",
       "3575689  C2088151490         0.00\n",
       "\n",
       "[6353307 rows x 2 columns]"
      ]
     },
     "execution_count": 63,
     "metadata": {},
     "output_type": "execute_result"
    }
   ],
   "source": [
    "sender_amount.sort_values('amount',ascending=False)b"
   ]
  },
  {
   "cell_type": "code",
   "execution_count": 67,
   "id": "3916f5bd",
   "metadata": {
    "scrolled": true
   },
   "outputs": [
    {
     "data": {
      "text/plain": [
       "nameOrig    16\n",
       "amount      16\n",
       "dtype: int64"
      ]
     },
     "execution_count": 67,
     "metadata": {},
     "output_type": "execute_result"
    }
   ],
   "source": [
    "sender_amount[sender_amount['amount']<=0].count()"
   ]
  },
  {
   "cell_type": "markdown",
   "id": "49131a66",
   "metadata": {},
   "source": [
    "**Data Insight**\n",
    "\n",
    "    1. Ada 16 customer yang melakukan transaksi dibawah Rp 0"
   ]
  },
  {
   "cell_type": "markdown",
   "id": "5742dca7",
   "metadata": {},
   "source": [
    "### Recepient"
   ]
  },
  {
   "cell_type": "code",
   "execution_count": 59,
   "id": "06366970",
   "metadata": {},
   "outputs": [],
   "source": [
    "receiver = df['nameDest'].value_counts().reset_index()"
   ]
  },
  {
   "cell_type": "code",
   "execution_count": 61,
   "id": "3ba9f741",
   "metadata": {},
   "outputs": [
    {
     "data": {
      "text/html": [
       "<div>\n",
       "<style scoped>\n",
       "    .dataframe tbody tr th:only-of-type {\n",
       "        vertical-align: middle;\n",
       "    }\n",
       "\n",
       "    .dataframe tbody tr th {\n",
       "        vertical-align: top;\n",
       "    }\n",
       "\n",
       "    .dataframe thead th {\n",
       "        text-align: right;\n",
       "    }\n",
       "</style>\n",
       "<table border=\"1\" class=\"dataframe\">\n",
       "  <thead>\n",
       "    <tr style=\"text-align: right;\">\n",
       "      <th></th>\n",
       "      <th>index</th>\n",
       "      <th>nameDest</th>\n",
       "    </tr>\n",
       "  </thead>\n",
       "  <tbody>\n",
       "    <tr>\n",
       "      <th>0</th>\n",
       "      <td>C1286084959</td>\n",
       "      <td>113</td>\n",
       "    </tr>\n",
       "    <tr>\n",
       "      <th>1</th>\n",
       "      <td>C985934102</td>\n",
       "      <td>109</td>\n",
       "    </tr>\n",
       "    <tr>\n",
       "      <th>2</th>\n",
       "      <td>C665576141</td>\n",
       "      <td>105</td>\n",
       "    </tr>\n",
       "    <tr>\n",
       "      <th>3</th>\n",
       "      <td>C2083562754</td>\n",
       "      <td>102</td>\n",
       "    </tr>\n",
       "    <tr>\n",
       "      <th>4</th>\n",
       "      <td>C248609774</td>\n",
       "      <td>101</td>\n",
       "    </tr>\n",
       "    <tr>\n",
       "      <th>5</th>\n",
       "      <td>C1590550415</td>\n",
       "      <td>101</td>\n",
       "    </tr>\n",
       "    <tr>\n",
       "      <th>6</th>\n",
       "      <td>C451111351</td>\n",
       "      <td>99</td>\n",
       "    </tr>\n",
       "    <tr>\n",
       "      <th>7</th>\n",
       "      <td>C1789550256</td>\n",
       "      <td>99</td>\n",
       "    </tr>\n",
       "    <tr>\n",
       "      <th>8</th>\n",
       "      <td>C1360767589</td>\n",
       "      <td>98</td>\n",
       "    </tr>\n",
       "    <tr>\n",
       "      <th>9</th>\n",
       "      <td>C1023714065</td>\n",
       "      <td>97</td>\n",
       "    </tr>\n",
       "  </tbody>\n",
       "</table>\n",
       "</div>"
      ],
      "text/plain": [
       "         index  nameDest\n",
       "0  C1286084959       113\n",
       "1   C985934102       109\n",
       "2   C665576141       105\n",
       "3  C2083562754       102\n",
       "4   C248609774       101\n",
       "5  C1590550415       101\n",
       "6   C451111351        99\n",
       "7  C1789550256        99\n",
       "8  C1360767589        98\n",
       "9  C1023714065        97"
      ]
     },
     "execution_count": 61,
     "metadata": {},
     "output_type": "execute_result"
    }
   ],
   "source": [
    "receiver.sort_values('nameDest',ascending=False).head(10)"
   ]
  },
  {
   "cell_type": "markdown",
   "id": "e6b3bb10",
   "metadata": {},
   "source": [
    "**Data Insight**\n",
    "\n",
    "    1. ada 7 recepient yang melakukan transaksi lebih dari 100 kali"
   ]
  },
  {
   "cell_type": "markdown",
   "id": "3efe4d34",
   "metadata": {},
   "source": [
    "### Tipe Transaksi"
   ]
  },
  {
   "cell_type": "code",
   "execution_count": 76,
   "id": "e0634f9a",
   "metadata": {},
   "outputs": [],
   "source": [
    "type_count = df.groupby('type')['amount'].count().reset_index()"
   ]
  },
  {
   "cell_type": "code",
   "execution_count": 77,
   "id": "aeff521f",
   "metadata": {},
   "outputs": [],
   "source": [
    "type_count.columns = ['type','banyaknya transaksi']"
   ]
  },
  {
   "cell_type": "code",
   "execution_count": 78,
   "id": "0ea19936",
   "metadata": {},
   "outputs": [
    {
     "data": {
      "text/plain": [
       "<AxesSubplot:xlabel='type', ylabel='banyaknya transaksi'>"
      ]
     },
     "execution_count": 78,
     "metadata": {},
     "output_type": "execute_result"
    },
    {
     "data": {
      "image/png": "[encoded data removed]",
      "text/plain": [
       "<Figure size 432x288 with 1 Axes>"
      ]
     },
     "metadata": {
      "needs_background": "light"
     },
     "output_type": "display_data"
    }
   ],
   "source": [
    "sns.barplot(x='type',y='banyaknya transaksi',data=type_count)"
   ]
  },
  {
   "cell_type": "markdown",
   "id": "eb06ba8e",
   "metadata": {},
   "source": [
    "**Data Insight**\n",
    "\n",
    "    1. Jenis transaksi debit dan transfer jarang terjadi"
   ]
  },
  {
   "cell_type": "code",
   "execution_count": 80,
   "id": "7b177dfd",
   "metadata": {},
   "outputs": [],
   "source": [
    "type_sum = df.groupby('type')['amount'].sum().reset_index()"
   ]
  },
  {
   "cell_type": "code",
   "execution_count": 81,
   "id": "3a5041fa",
   "metadata": {},
   "outputs": [],
   "source": [
    "type_sum.columns = ['type','jumlah transaksi']"
   ]
  },
  {
   "cell_type": "code",
   "execution_count": 82,
   "id": "c1a6ffc4",
   "metadata": {},
   "outputs": [
    {
     "data": {
      "text/plain": [
       "<AxesSubplot:xlabel='type', ylabel='jumlah transaksi'>"
      ]
     },
     "execution_count": 82,
     "metadata": {},
     "output_type": "execute_result"
    },
    {
     "data": {
      "image/png": "[encoded data removed]",
      "text/plain": [
       "<Figure size 432x288 with 1 Axes>"
      ]
     },
     "metadata": {
      "needs_background": "light"
     },
     "output_type": "display_data"
    }
   ],
   "source": [
    "sns.barplot(x='type',y='jumlah transaksi',data=type_sum)"
   ]
  },
  {
   "cell_type": "markdown",
   "id": "2ab7dca0",
   "metadata": {},
   "source": [
    "**Data Insight**\n",
    "\n",
    "    1. Jumlah transaksi pada transfer mencapai lebih dari Rp 50.000.000.000"
   ]
  },
  {
   "cell_type": "markdown",
   "id": "78e0dae5",
   "metadata": {},
   "source": [
    "## Bivariate Analysis dengan Fraud"
   ]
  },
  {
   "cell_type": "code",
   "execution_count": 94,
   "id": "907f0386",
   "metadata": {},
   "outputs": [],
   "source": [
    "df_fraud = df[df['isFraud']==1]"
   ]
  },
  {
   "cell_type": "code",
   "execution_count": 98,
   "id": "4634545e",
   "metadata": {},
   "outputs": [
    {
     "data": {
      "text/html": [
       "<div>\n",
       "<style scoped>\n",
       "    .dataframe tbody tr th:only-of-type {\n",
       "        vertical-align: middle;\n",
       "    }\n",
       "\n",
       "    .dataframe tbody tr th {\n",
       "        vertical-align: top;\n",
       "    }\n",
       "\n",
       "    .dataframe thead th {\n",
       "        text-align: right;\n",
       "    }\n",
       "</style>\n",
       "<table border=\"1\" class=\"dataframe\">\n",
       "  <thead>\n",
       "    <tr style=\"text-align: right;\">\n",
       "      <th></th>\n",
       "      <th>step</th>\n",
       "      <th>amount</th>\n",
       "      <th>oldbalanceOrg</th>\n",
       "      <th>newbalanceOrig</th>\n",
       "      <th>oldbalanceDest</th>\n",
       "      <th>newbalanceDest</th>\n",
       "      <th>isFraud</th>\n",
       "      <th>isFlaggedFraud</th>\n",
       "      <th>days</th>\n",
       "      <th>hours</th>\n",
       "      <th>day_trans</th>\n",
       "    </tr>\n",
       "  </thead>\n",
       "  <tbody>\n",
       "    <tr>\n",
       "      <th>count</th>\n",
       "      <td>8213.000000</td>\n",
       "      <td>8.213000e+03</td>\n",
       "      <td>8.213000e+03</td>\n",
       "      <td>8.213000e+03</td>\n",
       "      <td>8.213000e+03</td>\n",
       "      <td>8.213000e+03</td>\n",
       "      <td>8213.0</td>\n",
       "      <td>8213.000000</td>\n",
       "      <td>8213.000000</td>\n",
       "      <td>8213.000000</td>\n",
       "      <td>8213.000000</td>\n",
       "    </tr>\n",
       "    <tr>\n",
       "      <th>mean</th>\n",
       "      <td>368.413856</td>\n",
       "      <td>1.467967e+06</td>\n",
       "      <td>1.649668e+06</td>\n",
       "      <td>1.923926e+05</td>\n",
       "      <td>5.442496e+05</td>\n",
       "      <td>1.279708e+06</td>\n",
       "      <td>1.0</td>\n",
       "      <td>0.001948</td>\n",
       "      <td>3.032266</td>\n",
       "      <td>11.546451</td>\n",
       "      <td>15.352246</td>\n",
       "    </tr>\n",
       "    <tr>\n",
       "      <th>std</th>\n",
       "      <td>216.388690</td>\n",
       "      <td>2.404253e+06</td>\n",
       "      <td>3.547719e+06</td>\n",
       "      <td>1.965666e+06</td>\n",
       "      <td>3.336421e+06</td>\n",
       "      <td>3.908817e+06</td>\n",
       "      <td>0.0</td>\n",
       "      <td>0.044097</td>\n",
       "      <td>1.979081</td>\n",
       "      <td>6.874612</td>\n",
       "      <td>9.020664</td>\n",
       "    </tr>\n",
       "    <tr>\n",
       "      <th>min</th>\n",
       "      <td>1.000000</td>\n",
       "      <td>0.000000e+00</td>\n",
       "      <td>0.000000e+00</td>\n",
       "      <td>0.000000e+00</td>\n",
       "      <td>0.000000e+00</td>\n",
       "      <td>0.000000e+00</td>\n",
       "      <td>1.0</td>\n",
       "      <td>0.000000</td>\n",
       "      <td>0.000000</td>\n",
       "      <td>0.000000</td>\n",
       "      <td>0.000000</td>\n",
       "    </tr>\n",
       "    <tr>\n",
       "      <th>25%</th>\n",
       "      <td>181.000000</td>\n",
       "      <td>1.270913e+05</td>\n",
       "      <td>1.258224e+05</td>\n",
       "      <td>0.000000e+00</td>\n",
       "      <td>0.000000e+00</td>\n",
       "      <td>0.000000e+00</td>\n",
       "      <td>1.0</td>\n",
       "      <td>0.000000</td>\n",
       "      <td>1.000000</td>\n",
       "      <td>6.000000</td>\n",
       "      <td>8.000000</td>\n",
       "    </tr>\n",
       "    <tr>\n",
       "      <th>50%</th>\n",
       "      <td>367.000000</td>\n",
       "      <td>4.414234e+05</td>\n",
       "      <td>4.389835e+05</td>\n",
       "      <td>0.000000e+00</td>\n",
       "      <td>0.000000e+00</td>\n",
       "      <td>4.676420e+03</td>\n",
       "      <td>1.0</td>\n",
       "      <td>0.000000</td>\n",
       "      <td>3.000000</td>\n",
       "      <td>12.000000</td>\n",
       "      <td>15.000000</td>\n",
       "    </tr>\n",
       "    <tr>\n",
       "      <th>75%</th>\n",
       "      <td>558.000000</td>\n",
       "      <td>1.517771e+06</td>\n",
       "      <td>1.517771e+06</td>\n",
       "      <td>0.000000e+00</td>\n",
       "      <td>1.478287e+05</td>\n",
       "      <td>1.058725e+06</td>\n",
       "      <td>1.0</td>\n",
       "      <td>0.000000</td>\n",
       "      <td>5.000000</td>\n",
       "      <td>17.000000</td>\n",
       "      <td>23.000000</td>\n",
       "    </tr>\n",
       "    <tr>\n",
       "      <th>max</th>\n",
       "      <td>743.000000</td>\n",
       "      <td>1.000000e+07</td>\n",
       "      <td>5.958504e+07</td>\n",
       "      <td>4.958504e+07</td>\n",
       "      <td>2.362305e+08</td>\n",
       "      <td>2.367265e+08</td>\n",
       "      <td>1.0</td>\n",
       "      <td>1.000000</td>\n",
       "      <td>6.000000</td>\n",
       "      <td>23.000000</td>\n",
       "      <td>31.000000</td>\n",
       "    </tr>\n",
       "  </tbody>\n",
       "</table>\n",
       "</div>"
      ],
      "text/plain": [
       "              step        amount  oldbalanceOrg  newbalanceOrig  \\\n",
       "count  8213.000000  8.213000e+03   8.213000e+03    8.213000e+03   \n",
       "mean    368.413856  1.467967e+06   1.649668e+06    1.923926e+05   \n",
       "std     216.388690  2.404253e+06   3.547719e+06    1.965666e+06   \n",
       "min       1.000000  0.000000e+00   0.000000e+00    0.000000e+00   \n",
       "25%     181.000000  1.270913e+05   1.258224e+05    0.000000e+00   \n",
       "50%     367.000000  4.414234e+05   4.389835e+05    0.000000e+00   \n",
       "75%     558.000000  1.517771e+06   1.517771e+06    0.000000e+00   \n",
       "max     743.000000  1.000000e+07   5.958504e+07    4.958504e+07   \n",
       "\n",
       "       oldbalanceDest  newbalanceDest  isFraud  isFlaggedFraud         days  \\\n",
       "count    8.213000e+03    8.213000e+03   8213.0     8213.000000  8213.000000   \n",
       "mean     5.442496e+05    1.279708e+06      1.0        0.001948     3.032266   \n",
       "std      3.336421e+06    3.908817e+06      0.0        0.044097     1.979081   \n",
       "min      0.000000e+00    0.000000e+00      1.0        0.000000     0.000000   \n",
       "25%      0.000000e+00    0.000000e+00      1.0        0.000000     1.000000   \n",
       "50%      0.000000e+00    4.676420e+03      1.0        0.000000     3.000000   \n",
       "75%      1.478287e+05    1.058725e+06      1.0        0.000000     5.000000   \n",
       "max      2.362305e+08    2.367265e+08      1.0        1.000000     6.000000   \n",
       "\n",
       "             hours    day_trans  \n",
       "count  8213.000000  8213.000000  \n",
       "mean     11.546451    15.352246  \n",
       "std       6.874612     9.020664  \n",
       "min       0.000000     0.000000  \n",
       "25%       6.000000     8.000000  \n",
       "50%      12.000000    15.000000  \n",
       "75%      17.000000    23.000000  \n",
       "max      23.000000    31.000000  "
      ]
     },
     "execution_count": 98,
     "metadata": {},
     "output_type": "execute_result"
    }
   ],
   "source": [
    "df_fraud.describe()"
   ]
  },
  {
   "cell_type": "code",
   "execution_count": 139,
   "id": "abdac7b6",
   "metadata": {},
   "outputs": [
    {
     "name": "stdout",
     "output_type": "stream",
     "text": [
      "AxesSubplot(0.260833,0.125;0.503333x0.755)\n"
     ]
    },
    {
     "data": {
      "image/png": "[encoded data removed]",
      "text/plain": [
       "<Figure size 432x288 with 1 Axes>"
      ]
     },
     "metadata": {},
     "output_type": "display_data"
    }
   ],
   "source": [
    "print((df['isFraud'].value_counts()).plot(kind='pie',autopct='%1.2f%%'))"
   ]
  },
  {
   "cell_type": "markdown",
   "id": "aac29ff2",
   "metadata": {},
   "source": [
    "**Data Insight**\n",
    "\n",
    "    1. Transaksi fraud terjadi sebanyak 8.213\n",
    "    2. Kemungkinan transaksi adalah 0,13%"
   ]
  },
  {
   "cell_type": "code",
   "execution_count": 99,
   "id": "42cb021e",
   "metadata": {
    "scrolled": true
   },
   "outputs": [
    {
     "data": {
      "text/plain": [
       "12056415427.839998"
      ]
     },
     "execution_count": 99,
     "metadata": {},
     "output_type": "execute_result"
    }
   ],
   "source": [
    "df_fraud['amount'].sum()"
   ]
  },
  {
   "cell_type": "code",
   "execution_count": 142,
   "id": "4ce5c97f",
   "metadata": {},
   "outputs": [
    {
     "data": {
      "text/plain": [
       "1.0535206008606486"
      ]
     },
     "execution_count": 142,
     "metadata": {},
     "output_type": "execute_result"
    }
   ],
   "source": [
    "df_fraud['amount'].sum()/df['amount'].sum()*100"
   ]
  },
  {
   "cell_type": "markdown",
   "id": "4fb872d6",
   "metadata": {},
   "source": [
    "**Data Insight**\n",
    "\n",
    "    1. Jumlah Transaksi fraud mencapai Rp 1.205.6415.427 dengan persentase 1% dari keseluruhan jumlah transaksi"
   ]
  },
  {
   "cell_type": "markdown",
   "id": "18c78a32",
   "metadata": {},
   "source": [
    "### Waktu Transaksi"
   ]
  },
  {
   "cell_type": "code",
   "execution_count": 89,
   "id": "ea5ef236",
   "metadata": {},
   "outputs": [],
   "source": [
    "time = ['days','hours','day_trans']"
   ]
  },
  {
   "cell_type": "code",
   "execution_count": 96,
   "id": "e1d94f1c",
   "metadata": {
    "scrolled": true
   },
   "outputs": [
    {
     "data": {
      "image/png": "[encoded data removed]",
      "text/plain": [
       "<Figure size 432x288 with 1 Axes>"
      ]
     },
     "metadata": {
      "needs_background": "light"
     },
     "output_type": "display_data"
    },
    {
     "data": {
      "text/plain": [
       "<Figure size 216x216 with 0 Axes>"
      ]
     },
     "metadata": {},
     "output_type": "display_data"
    },
    {
     "data": {
      "image/png": "[encoded data removed]",
      "text/plain": [
       "<Figure size 432x288 with 1 Axes>"
      ]
     },
     "metadata": {
      "needs_background": "light"
     },
     "output_type": "display_data"
    },
    {
     "data": {
      "text/plain": [
       "<Figure size 216x216 with 0 Axes>"
      ]
     },
     "metadata": {},
     "output_type": "display_data"
    },
    {
     "data": {
      "image/png": "[encoded data removed]",
      "text/plain": [
       "<Figure size 432x288 with 1 Axes>"
      ]
     },
     "metadata": {
      "needs_background": "light"
     },
     "output_type": "display_data"
    },
    {
     "data": {
      "text/plain": [
       "<Figure size 216x216 with 0 Axes>"
      ]
     },
     "metadata": {},
     "output_type": "display_data"
    }
   ],
   "source": [
    "for j in range (0,len(time)):\n",
    "    num = time[j]\n",
    "    sns.histplot(df_fraud[num])\n",
    "    plt.figure(figsize=(3,3))\n",
    "    plt.show()"
   ]
  },
  {
   "cell_type": "markdown",
   "id": "9d4a23c0",
   "metadata": {},
   "source": [
    "**Data Insight**\n",
    "\n",
    "    1. Transaksi pada jam 0:00 dan 23:00 sering terjadi fraud"
   ]
  },
  {
   "cell_type": "code",
   "execution_count": 100,
   "id": "83c019f2",
   "metadata": {},
   "outputs": [],
   "source": [
    "df['IsFraud'] = df['isFraud']"
   ]
  },
  {
   "cell_type": "code",
   "execution_count": 103,
   "id": "1cbddd60",
   "metadata": {},
   "outputs": [
    {
     "name": "stderr",
     "output_type": "stream",
     "text": [
      "C:\\ProgramData\\Anaconda3\\lib\\site-packages\\seaborn\\_decorators.py:36: FutureWarning: Pass the following variables as keyword args: x, y. From version 0.12, the only valid positional argument will be `data`, and passing other arguments without an explicit keyword will result in an error or misinterpretation.\n",
      "  warnings.warn(\n"
     ]
    },
    {
     "data": {
      "image/png": "[encoded data removed]",
      "text/plain": [
       "<Figure size 432x288 with 1 Axes>"
      ]
     },
     "metadata": {
      "needs_background": "light"
     },
     "output_type": "display_data"
    },
    {
     "name": "stderr",
     "output_type": "stream",
     "text": [
      "C:\\ProgramData\\Anaconda3\\lib\\site-packages\\seaborn\\_decorators.py:36: FutureWarning: Pass the following variables as keyword args: x, y. From version 0.12, the only valid positional argument will be `data`, and passing other arguments without an explicit keyword will result in an error or misinterpretation.\n",
      "  warnings.warn(\n"
     ]
    },
    {
     "data": {
      "image/png": "[encoded data removed]",
      "text/plain": [
       "<Figure size 432x288 with 1 Axes>"
      ]
     },
     "metadata": {
      "needs_background": "light"
     },
     "output_type": "display_data"
    },
    {
     "name": "stderr",
     "output_type": "stream",
     "text": [
      "C:\\ProgramData\\Anaconda3\\lib\\site-packages\\seaborn\\_decorators.py:36: FutureWarning: Pass the following variables as keyword args: x, y. From version 0.12, the only valid positional argument will be `data`, and passing other arguments without an explicit keyword will result in an error or misinterpretation.\n",
      "  warnings.warn(\n"
     ]
    },
    {
     "data": {
      "image/png": "[encoded data removed]",
      "text/plain": [
       "<Figure size 432x288 with 1 Axes>"
      ]
     },
     "metadata": {
      "needs_background": "light"
     },
     "output_type": "display_data"
    }
   ],
   "source": [
    "for j in range (0,len(time)):\n",
    "    num = time[j]\n",
    "    df['IsFraud_new'] = df['IsFraud']\n",
    "    df_num = df.groupby([num])['IsFraud'].count()\n",
    "    df_num = df_num.reset_index()\n",
    "    df_num_corr = df[df['IsFraud']==1].groupby([num])['IsFraud_new'].count()\n",
    "    df_num_corr = df_num_corr.reset_index()\n",
    "    df_num_corr = df_num.merge(df_num_corr,how='left',on=num)\n",
    "    df_num_corr['%IsFraud'] = (df_num_corr['IsFraud_new']/df_num_corr['IsFraud'])*100\n",
    "    sns.lineplot(df_num_corr[num],df_num_corr['%IsFraud'])\n",
    "    plt.xlabel(num)\n",
    "    plt.ylabel('%IsFraud')\n",
    "    plt.show()"
   ]
  },
  {
   "cell_type": "markdown",
   "id": "f4264b6b",
   "metadata": {},
   "source": [
    "**Data Insight**\n",
    "\n",
    "    1. Transaksi pada jam 1-10 memiliki probabilitas fraud yang lebih tinggi\n",
    "    2. Transaksi pada hari kedua sampe keempat memiliki probabilitas fraud yang sangat tinggi\n",
    "    3. Transaksi pada hari ke 31 dan 32 memiliki probabilitas fraud yang tinggi"
   ]
  },
  {
   "cell_type": "markdown",
   "id": "cdaf17a3",
   "metadata": {},
   "source": [
    "## Nominal Transaksi"
   ]
  },
  {
   "cell_type": "code",
   "execution_count": 119,
   "id": "65ea5611",
   "metadata": {},
   "outputs": [],
   "source": [
    "num = 'amount_bins'"
   ]
  },
  {
   "cell_type": "code",
   "execution_count": 120,
   "id": "e9b1277a",
   "metadata": {},
   "outputs": [],
   "source": [
    "df['IsFraud_new'] = df['IsFraud']\n",
    "df_num = df.groupby([num])['IsFraud'].count()\n",
    "df_num = df_num.reset_index()\n",
    "df_num_corr = df[df['IsFraud']==1].groupby([num])['IsFraud_new'].count()\n",
    "df_num_corr = df_num_corr.reset_index()\n",
    "df_num_corr = df_num.merge(df_num_corr,how='left',on=num)\n",
    "df_num_corr['%IsFraud'] = (df_num_corr['IsFraud_new']/df_num_corr['IsFraud'])*100"
   ]
  },
  {
   "cell_type": "code",
   "execution_count": 121,
   "id": "9e8c304a",
   "metadata": {},
   "outputs": [],
   "source": [
    "df_num_corr = df_num_corr.dropna()"
   ]
  },
  {
   "cell_type": "code",
   "execution_count": 124,
   "id": "49536b78",
   "metadata": {},
   "outputs": [
    {
     "name": "stderr",
     "output_type": "stream",
     "text": [
      "C:\\ProgramData\\Anaconda3\\lib\\site-packages\\seaborn\\_decorators.py:36: FutureWarning: Pass the following variables as keyword args: x, y. From version 0.12, the only valid positional argument will be `data`, and passing other arguments without an explicit keyword will result in an error or misinterpretation.\n",
      "  warnings.warn(\n"
     ]
    },
    {
     "data": {
      "text/plain": [
       "<AxesSubplot:xlabel='amount_bins', ylabel='%IsFraud'>"
      ]
     },
     "execution_count": 124,
     "metadata": {},
     "output_type": "execute_result"
    },
    {
     "data": {
      "image/png": "[encoded data removed]",
      "text/plain": [
       "<Figure size 432x288 with 1 Axes>"
      ]
     },
     "metadata": {
      "needs_background": "light"
     },
     "output_type": "display_data"
    }
   ],
   "source": [
    "sns.barplot(df_num_corr['amount_bins'],df_num_corr['%IsFraud'])"
   ]
  },
  {
   "cell_type": "markdown",
   "id": "0c0c901f",
   "metadata": {},
   "source": [
    "**Data Insight**\n",
    "\n",
    "    1. Transaksi Very High memiliki kemungkinan fraud yang tinggi 35%"
   ]
  },
  {
   "cell_type": "code",
   "execution_count": 127,
   "id": "d983b0cc",
   "metadata": {},
   "outputs": [],
   "source": [
    "df_very_high = df_fraud[df_fraud['amount_bins']=='Very High']"
   ]
  },
  {
   "cell_type": "code",
   "execution_count": 131,
   "id": "7d681346",
   "metadata": {},
   "outputs": [
    {
     "data": {
      "text/plain": [
       "count        5404.0\n",
       "mean      2187244.0\n",
       "std       2696456.0\n",
       "min        208868.0\n",
       "25%        451598.0\n",
       "50%       1003397.0\n",
       "75%       2578131.0\n",
       "max      10000000.0\n",
       "Name: amount, dtype: float64"
      ]
     },
     "execution_count": 131,
     "metadata": {},
     "output_type": "execute_result"
    }
   ],
   "source": [
    "round(df_very_high['amount'].describe())"
   ]
  },
  {
   "cell_type": "code",
   "execution_count": 129,
   "id": "34b208f9",
   "metadata": {},
   "outputs": [
    {
     "data": {
      "text/plain": [
       "<AxesSubplot:xlabel='amount', ylabel='Count'>"
      ]
     },
     "execution_count": 129,
     "metadata": {},
     "output_type": "execute_result"
    },
    {
     "data": {
      "image/png": "[encoded data removed]",
      "text/plain": [
       "<Figure size 432x288 with 1 Axes>"
      ]
     },
     "metadata": {
      "needs_background": "light"
     },
     "output_type": "display_data"
    }
   ],
   "source": [
    "sns.histplot(df_very_high['amount'])"
   ]
  },
  {
   "cell_type": "markdown",
   "id": "605d069b",
   "metadata": {},
   "source": [
    "**Data Insight**\n",
    "\n",
    "    1. Transaksi fraud dengan Rp 10.000.000 memiliki terjadi sebanyak 400 kali"
   ]
  },
  {
   "cell_type": "markdown",
   "id": "695a0445",
   "metadata": {},
   "source": [
    "### Sender"
   ]
  },
  {
   "cell_type": "code",
   "execution_count": 144,
   "id": "09fdab8e",
   "metadata": {},
   "outputs": [],
   "source": [
    "num = 'nameOrig'"
   ]
  },
  {
   "cell_type": "code",
   "execution_count": 145,
   "id": "1aaddc52",
   "metadata": {},
   "outputs": [],
   "source": [
    "df['IsFraud_new'] = df['IsFraud']\n",
    "df_num = df.groupby([num])['IsFraud'].count()\n",
    "df_num = df_num.reset_index()\n",
    "df_num_corr = df[df['IsFraud']==1].groupby([num])['IsFraud_new'].count()\n",
    "df_num_corr = df_num_corr.reset_index()\n",
    "df_num_corr = df_num.merge(df_num_corr,how='left',on=num)\n",
    "df_num_corr['%IsFraud'] = (df_num_corr['IsFraud_new']/df_num_corr['IsFraud'])*100"
   ]
  },
  {
   "cell_type": "code",
   "execution_count": 149,
   "id": "fd0465dd",
   "metadata": {},
   "outputs": [],
   "source": [
    "df_num_corr = df_num_corr.fillna(0)"
   ]
  },
  {
   "cell_type": "code",
   "execution_count": 151,
   "id": "bbfafaea",
   "metadata": {},
   "outputs": [
    {
     "data": {
      "text/html": [
       "<div>\n",
       "<style scoped>\n",
       "    .dataframe tbody tr th:only-of-type {\n",
       "        vertical-align: middle;\n",
       "    }\n",
       "\n",
       "    .dataframe tbody tr th {\n",
       "        vertical-align: top;\n",
       "    }\n",
       "\n",
       "    .dataframe thead th {\n",
       "        text-align: right;\n",
       "    }\n",
       "</style>\n",
       "<table border=\"1\" class=\"dataframe\">\n",
       "  <thead>\n",
       "    <tr style=\"text-align: right;\">\n",
       "      <th></th>\n",
       "      <th>nameOrig</th>\n",
       "      <th>IsFraud</th>\n",
       "      <th>IsFraud_new</th>\n",
       "      <th>%IsFraud</th>\n",
       "    </tr>\n",
       "  </thead>\n",
       "  <tbody>\n",
       "    <tr>\n",
       "      <th>3281729</th>\n",
       "      <td>C1998644906</td>\n",
       "      <td>1</td>\n",
       "      <td>1.0</td>\n",
       "      <td>100.0</td>\n",
       "    </tr>\n",
       "    <tr>\n",
       "      <th>3497858</th>\n",
       "      <td>C2064336595</td>\n",
       "      <td>1</td>\n",
       "      <td>1.0</td>\n",
       "      <td>100.0</td>\n",
       "    </tr>\n",
       "    <tr>\n",
       "      <th>3851566</th>\n",
       "      <td>C239155420</td>\n",
       "      <td>1</td>\n",
       "      <td>1.0</td>\n",
       "      <td>100.0</td>\n",
       "    </tr>\n",
       "    <tr>\n",
       "      <th>5637955</th>\n",
       "      <td>C782313486</td>\n",
       "      <td>1</td>\n",
       "      <td>1.0</td>\n",
       "      <td>100.0</td>\n",
       "    </tr>\n",
       "    <tr>\n",
       "      <th>3457566</th>\n",
       "      <td>C2052061131</td>\n",
       "      <td>1</td>\n",
       "      <td>1.0</td>\n",
       "      <td>100.0</td>\n",
       "    </tr>\n",
       "    <tr>\n",
       "      <th>...</th>\n",
       "      <td>...</td>\n",
       "      <td>...</td>\n",
       "      <td>...</td>\n",
       "      <td>...</td>\n",
       "    </tr>\n",
       "    <tr>\n",
       "      <th>2119179</th>\n",
       "      <td>C164527924</td>\n",
       "      <td>1</td>\n",
       "      <td>0.0</td>\n",
       "      <td>0.0</td>\n",
       "    </tr>\n",
       "    <tr>\n",
       "      <th>2119178</th>\n",
       "      <td>C16452791</td>\n",
       "      <td>1</td>\n",
       "      <td>0.0</td>\n",
       "      <td>0.0</td>\n",
       "    </tr>\n",
       "    <tr>\n",
       "      <th>2119177</th>\n",
       "      <td>C164527901</td>\n",
       "      <td>1</td>\n",
       "      <td>0.0</td>\n",
       "      <td>0.0</td>\n",
       "    </tr>\n",
       "    <tr>\n",
       "      <th>2119176</th>\n",
       "      <td>C164527882</td>\n",
       "      <td>1</td>\n",
       "      <td>0.0</td>\n",
       "      <td>0.0</td>\n",
       "    </tr>\n",
       "    <tr>\n",
       "      <th>6353306</th>\n",
       "      <td>C999999784</td>\n",
       "      <td>1</td>\n",
       "      <td>0.0</td>\n",
       "      <td>0.0</td>\n",
       "    </tr>\n",
       "  </tbody>\n",
       "</table>\n",
       "<p>6353307 rows × 4 columns</p>\n",
       "</div>"
      ],
      "text/plain": [
       "            nameOrig  IsFraud  IsFraud_new  %IsFraud\n",
       "3281729  C1998644906        1          1.0     100.0\n",
       "3497858  C2064336595        1          1.0     100.0\n",
       "3851566   C239155420        1          1.0     100.0\n",
       "5637955   C782313486        1          1.0     100.0\n",
       "3457566  C2052061131        1          1.0     100.0\n",
       "...              ...      ...          ...       ...\n",
       "2119179   C164527924        1          0.0       0.0\n",
       "2119178    C16452791        1          0.0       0.0\n",
       "2119177   C164527901        1          0.0       0.0\n",
       "2119176   C164527882        1          0.0       0.0\n",
       "6353306   C999999784        1          0.0       0.0\n",
       "\n",
       "[6353307 rows x 4 columns]"
      ]
     },
     "execution_count": 151,
     "metadata": {},
     "output_type": "execute_result"
    }
   ],
   "source": [
    "df_num_corr.sort_values('%IsFraud',ascending=False)"
   ]
  },
  {
   "cell_type": "markdown",
   "id": "1a4236fa",
   "metadata": {},
   "source": [
    "**Data Transaksi**\n",
    "\n",
    "Customer yang melakukan transaksi fraud adalah 100% dari kesuluruhan transaksi mereka"
   ]
  }
 ],
 "metadata": {
  "kernelspec": {
   "display_name": "Python 3 (ipykernel)",
   "language": "python",
   "name": "python3"
  },
  "language_info": {
   "codemirror_mode": {
    "name": "ipython",
    "version": 3
   },
   "file_extension": ".py",
   "mimetype": "text/x-python",
   "name": "python",
   "nbconvert_exporter": "python",
   "pygments_lexer": "ipython3",
   "version": "3.9.12"
  }
 },
 "nbformat": 4,
 "nbformat_minor": 5
}

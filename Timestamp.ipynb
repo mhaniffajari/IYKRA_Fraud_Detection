{
 "cells": [
  {
   "cell_type": "code",
   "execution_count": 1,
   "id": "9b2b25f2",
   "metadata": {},
   "outputs": [],
   "source": [
    "import pandas as pd\n",
    "import numpy as np\n",
    "import seaborn as sns\n",
    "import matplotlib.pyplot as plt\n",
    "import datetime"
   ]
  },
  {
   "cell_type": "code",
   "execution_count": 2,
   "id": "c56b31cd",
   "metadata": {},
   "outputs": [],
   "source": [
    "df = pd.read_csv('fraud_dataset.csv')"
   ]
  },
  {
   "cell_type": "code",
   "execution_count": 4,
   "id": "be5b3e14",
   "metadata": {},
   "outputs": [],
   "source": [
    "num_days = 7\n",
    "num_hours = 24\n",
    "df['days'] = df['step']%num_days\n",
    "df['hours'] = df['step']%num_hours\n",
    "df['day_trans'] = df['step']/24\n",
    "df['day_trans'] = round(df['day_trans'])"
   ]
  },
  {
   "cell_type": "code",
   "execution_count": 6,
   "id": "80f36848",
   "metadata": {},
   "outputs": [],
   "source": [
    "df['tanggal'] = pd.to_datetime(df['day_trans'],unit='D',origin=pd.Timestamp('2022-10-01 00:00:00'))"
   ]
  },
  {
   "cell_type": "code",
   "execution_count": 7,
   "id": "42530c08",
   "metadata": {},
   "outputs": [],
   "source": [
    "df['tanggal_jam'] = df['tanggal'] + pd.TimedeltaIndex(df['hours'], unit='H')"
   ]
  },
  {
   "cell_type": "code",
   "execution_count": 14,
   "id": "b213f1b1",
   "metadata": {},
   "outputs": [
    {
     "data": {
      "text/plain": [
       "6"
      ]
     },
     "execution_count": 14,
     "metadata": {},
     "output_type": "execute_result"
    }
   ],
   "source": [
    "import random\n",
    "random.randint(0, 9)"
   ]
  },
  {
   "cell_type": "code",
   "execution_count": 35,
   "id": "9a24d4cf",
   "metadata": {},
   "outputs": [],
   "source": [
    "n = df.shape[0]"
   ]
  },
  {
   "cell_type": "code",
   "execution_count": 36,
   "id": "9ac3fbff",
   "metadata": {},
   "outputs": [],
   "source": [
    "rand_list=[]\n",
    "for i in range(n):\n",
    "    rand_list.append(random.randint(0,360))"
   ]
  },
  {
   "cell_type": "code",
   "execution_count": 37,
   "id": "8f121d87",
   "metadata": {},
   "outputs": [],
   "source": [
    "df['detik_random'] = rand_list"
   ]
  },
  {
   "cell_type": "code",
   "execution_count": 38,
   "id": "88a602c8",
   "metadata": {},
   "outputs": [],
   "source": [
    "df['timestamp'] = df['tanggal_jam'] + pd.TimedeltaIndex(df['detik_random'], unit='seconds')"
   ]
  },
  {
   "cell_type": "code",
   "execution_count": 39,
   "id": "f1c0c643",
   "metadata": {
    "scrolled": true
   },
   "outputs": [
    {
     "data": {
      "text/plain": [
       "0         2022-10-01 01:01:56\n",
       "1         2022-10-01 01:04:59\n",
       "2         2022-10-01 01:01:22\n",
       "3         2022-10-01 01:04:32\n",
       "4         2022-10-01 01:01:57\n",
       "                  ...        \n",
       "6362615   2022-11-01 23:04:42\n",
       "6362616   2022-11-01 23:03:57\n",
       "6362617   2022-11-01 23:01:34\n",
       "6362618   2022-11-01 23:01:30\n",
       "6362619   2022-11-01 23:05:06\n",
       "Name: timestamp, Length: 6362620, dtype: datetime64[ns]"
      ]
     },
     "execution_count": 39,
     "metadata": {},
     "output_type": "execute_result"
    }
   ],
   "source": [
    "df['timestamp']"
   ]
  },
  {
   "cell_type": "code",
   "execution_count": null,
   "id": "1e7cfa58",
   "metadata": {},
   "outputs": [],
   "source": [
    "df.to_csv('fraud_dataset_timestamp.csv')"
   ]
  }
 ],
 "metadata": {
  "kernelspec": {
   "display_name": "Python 3 (ipykernel)",
   "language": "python",
   "name": "python3"
  },
  "language_info": {
   "codemirror_mode": {
    "name": "ipython",
    "version": 3
   },
   "file_extension": ".py",
   "mimetype": "text/x-python",
   "name": "python",
   "nbconvert_exporter": "python",
   "pygments_lexer": "ipython3",
   "version": "3.9.12"
  }
 },
 "nbformat": 4,
 "nbformat_minor": 5
}
